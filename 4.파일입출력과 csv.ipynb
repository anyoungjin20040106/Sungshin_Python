{
 "cells": [
  {
   "cell_type": "markdown",
   "metadata": {},
   "source": [
    "# 파일 입출력\n",
    "파일 입출력은 파일을 열고 작업(읽기, 쓰기, 추가)을 하면서 파일을 닫는 과정을 파일입출력입니다"
   ]
  },
  {
   "cell_type": "markdown",
   "metadata": {},
   "source": [
    "## 파일열고 닫기"
   ]
  },
  {
   "cell_type": "code",
   "execution_count": 28,
   "metadata": {},
   "outputs": [],
   "source": [
    "f=open(\"let it go.txt\")\n",
    "f.close()"
   ]
  },
  {
   "cell_type": "markdown",
   "metadata": {},
   "source": [
    "## 파일 읽기"
   ]
  },
  {
   "cell_type": "markdown",
   "metadata": {},
   "source": [
    "### f.read()\n",
    "파일 전체 내용을 반환하는 파일 메서드 입니다"
   ]
  },
  {
   "cell_type": "code",
   "execution_count": 30,
   "metadata": {},
   "outputs": [
    {
     "data": {
      "text/plain": [
       "\"The snow glows white on the mountain tonight\\nNot a footprint to be seen\\nA kingdom of isolation\\nAnd it looks like I'm the Queen\\n\\nThe wind is howling like this swirling storm inside\\nCouldn't keep it in, heaven knows I tried\\n\\nDon't let them in, don't let them see\\nBe the good girl you always have to be\\nConceal, don't feel, don't let them know\\nWell, now they know\\n\\nLet it go, let it go\\nCan't hold it back anymore\\nLet it go, let it go\\nTurn away and slam the door\\nI don't care what they're going to say\\nLet the storm rage on\\nThe cold never bothered me anyway\\n\\nIt's funny how some distance\\nMakes everything seem small\\nAnd the fears that once controlled me\\nCan't get to me at all\\n\\nIt's time to see what I can do\\nTo test the limits and break through\\nNo right, no wrong, no rules for me\\nI'm free\\n\\nLet it go, let it go\\nI am one with the wind and sky\\nLet it go, let it go\\nYou'll never see me cry\\nHere I stand\\nAnd here I'll stay\\nLet the storm rage on\\n\\nMy power flurries through the air into the ground\\nMy soul is spiraling in frozen fractals all around\\nAnd one thought crystallizes like an icy blast\\nI'm never going back, the past is in the past\\n\\nLet it go, let it go\\nAnd I'll rise like the break of dawn\\nLet it go, let it go\\nThat perfect girl is gone\\nHere I stand in the light of day\\nLet the storm rage on\\nThe cold never bothered me anyway\""
      ]
     },
     "execution_count": 30,
     "metadata": {},
     "output_type": "execute_result"
    }
   ],
   "source": [
    "f=open(\"let it go.txt\",'r')#open(\"let it go.txt\")이랑 똑같음\n",
    "r=f.read()\n",
    "f.close()\n",
    "r"
   ]
  },
  {
   "cell_type": "markdown",
   "metadata": {},
   "source": [
    "### \\n은 무엇인가요?\n",
    "\\n은 줄바꿈을 의미합니다 \\을 쓰는법은 ￦을 누르시면 됩니다\n",
    "#### 코드\n",
    "```py\n",
    "print('안녕\\n하세요')\n",
    "```\n",
    "#### 결과\n",
    "```bash\n",
    "안녕\n",
    "하세요\n",
    "```"
   ]
  },
  {
   "cell_type": "markdown",
   "metadata": {},
   "source": [
    "### f.read(n)\n",
    "파일 n바이트(영어 n글자) 만큼 내용을 반환하는 파일 메서드 입니다"
   ]
  },
  {
   "cell_type": "code",
   "execution_count": 31,
   "metadata": {},
   "outputs": [
    {
     "data": {
      "text/plain": [
       "'The sn'"
      ]
     },
     "execution_count": 31,
     "metadata": {},
     "output_type": "execute_result"
    }
   ],
   "source": [
    "f=open(\"let it go.txt\")\n",
    "r=f.read(6)\n",
    "f.close()\n",
    "r"
   ]
  },
  {
   "cell_type": "markdown",
   "metadata": {},
   "source": [
    "### f.readlines()\n",
    "파일 전체 내용을 한줄씩 리스트로 변환해서 반환해주는 메서드"
   ]
  },
  {
   "cell_type": "code",
   "execution_count": 32,
   "metadata": {},
   "outputs": [
    {
     "data": {
      "text/plain": [
       "['The snow glows white on the mountain tonight\\n',\n",
       " 'Not a footprint to be seen\\n',\n",
       " 'A kingdom of isolation\\n',\n",
       " \"And it looks like I'm the Queen\\n\",\n",
       " '\\n',\n",
       " 'The wind is howling like this swirling storm inside\\n',\n",
       " \"Couldn't keep it in, heaven knows I tried\\n\",\n",
       " '\\n',\n",
       " \"Don't let them in, don't let them see\\n\",\n",
       " 'Be the good girl you always have to be\\n',\n",
       " \"Conceal, don't feel, don't let them know\\n\",\n",
       " 'Well, now they know\\n',\n",
       " '\\n',\n",
       " 'Let it go, let it go\\n',\n",
       " \"Can't hold it back anymore\\n\",\n",
       " 'Let it go, let it go\\n',\n",
       " 'Turn away and slam the door\\n',\n",
       " \"I don't care what they're going to say\\n\",\n",
       " 'Let the storm rage on\\n',\n",
       " 'The cold never bothered me anyway\\n',\n",
       " '\\n',\n",
       " \"It's funny how some distance\\n\",\n",
       " 'Makes everything seem small\\n',\n",
       " 'And the fears that once controlled me\\n',\n",
       " \"Can't get to me at all\\n\",\n",
       " '\\n',\n",
       " \"It's time to see what I can do\\n\",\n",
       " 'To test the limits and break through\\n',\n",
       " 'No right, no wrong, no rules for me\\n',\n",
       " \"I'm free\\n\",\n",
       " '\\n',\n",
       " 'Let it go, let it go\\n',\n",
       " 'I am one with the wind and sky\\n',\n",
       " 'Let it go, let it go\\n',\n",
       " \"You'll never see me cry\\n\",\n",
       " 'Here I stand\\n',\n",
       " \"And here I'll stay\\n\",\n",
       " 'Let the storm rage on\\n',\n",
       " '\\n',\n",
       " 'My power flurries through the air into the ground\\n',\n",
       " 'My soul is spiraling in frozen fractals all around\\n',\n",
       " 'And one thought crystallizes like an icy blast\\n',\n",
       " \"I'm never going back, the past is in the past\\n\",\n",
       " '\\n',\n",
       " 'Let it go, let it go\\n',\n",
       " \"And I'll rise like the break of dawn\\n\",\n",
       " 'Let it go, let it go\\n',\n",
       " 'That perfect girl is gone\\n',\n",
       " 'Here I stand in the light of day\\n',\n",
       " 'Let the storm rage on\\n',\n",
       " 'The cold never bothered me anyway']"
      ]
     },
     "execution_count": 32,
     "metadata": {},
     "output_type": "execute_result"
    }
   ],
   "source": [
    "f=open(\"let it go.txt\")\n",
    "r=f.readlines()\n",
    "f.close()\n",
    "r"
   ]
  },
  {
   "cell_type": "markdown",
   "metadata": {},
   "source": [
    "## 한글이 들어간 파일 읽기"
   ]
  },
  {
   "cell_type": "code",
   "execution_count": 41,
   "metadata": {},
   "outputs": [
    {
     "ename": "UnicodeDecodeError",
     "evalue": "'cp949' codec can't decode byte 0xeb in position 0: illegal multibyte sequence",
     "output_type": "error",
     "traceback": [
      "\u001b[1;31m---------------------------------------------------------------------------\u001b[0m",
      "\u001b[1;31mUnicodeDecodeError\u001b[0m                        Traceback (most recent call last)",
      "Cell \u001b[1;32mIn[41], line 2\u001b[0m\n\u001b[0;32m      1\u001b[0m f\u001b[38;5;241m=\u001b[39m\u001b[38;5;28mopen\u001b[39m(\u001b[38;5;124m\"\u001b[39m\u001b[38;5;124m애국가.txt\u001b[39m\u001b[38;5;124m\"\u001b[39m)\n\u001b[1;32m----> 2\u001b[0m r\u001b[38;5;241m=\u001b[39m\u001b[43mf\u001b[49m\u001b[38;5;241;43m.\u001b[39;49m\u001b[43mread\u001b[49m\u001b[43m(\u001b[49m\u001b[43m)\u001b[49m\n\u001b[0;32m      3\u001b[0m f\u001b[38;5;241m.\u001b[39mclose()\n\u001b[0;32m      4\u001b[0m r\n",
      "\u001b[1;31mUnicodeDecodeError\u001b[0m: 'cp949' codec can't decode byte 0xeb in position 0: illegal multibyte sequence"
     ]
    }
   ],
   "source": [
    "f=open(\"애국가.txt\")\n",
    "r=f.read()\n",
    "f.close()\n",
    "r"
   ]
  },
  {
   "cell_type": "markdown",
   "metadata": {},
   "source": [
    "## unicode"
   ]
  },
  {
   "cell_type": "markdown",
   "metadata": {},
   "source": [
    "### 우리가 알아야 할것 : 1 byte=8bit"
   ]
  },
  {
   "cell_type": "markdown",
   "metadata": {},
   "source": [
    "### ASCII 코드\n",
    "ASCII코드는 최초의 컴퓨터의 문자 표현으로 표현할수 있는 글자가 $$ 128(2^7) $$개가 있습니다<br>\n",
    "하지만 ASCII코드가 생길때에는 미국인들만 컴퓨터를 쓰다 보니깐 다른나라 언어(한국어, 중국어, 일본어 등)을 고려하지 않다보니 영어외 다른나라 언어들을 처리하는것을 못합니다"
   ]
  },
  {
   "cell_type": "markdown",
   "metadata": {},
   "source": [
    "### unicode\n",
    "ASCII코드 처럼 문자 하나에 1바이트를 쓰는것이 아닌 2바이트 이상을 써서 전세계의 언어를 쓸수 있는 규약입니다(대표적으로 EUC-KR(한글 친화적)과 UTF-8(전세계 언어 친화적)이 있습니다)"
   ]
  },
  {
   "cell_type": "code",
   "execution_count": 42,
   "metadata": {},
   "outputs": [
    {
     "data": {
      "text/plain": [
       "'동해 물과 백두산이\\n마르고 닳도록\\n하느님이 보우하사\\n우리나라 만세\\n무궁화 삼천리\\n화려 강산\\n대한 사람 대한으로\\n길이 보전하세\\n남산 위에 저 소나무\\n철갑을 두른 듯\\n바람 서리 불변함은\\n우리 기상일세\\n무궁화 삼천리\\n화려 강산\\n대한 사람 대한으로\\n길이 보전하세\\n가을 하늘 공활한데\\n높고 구름 없이\\n밝은 달은 우리 가슴\\n일편단심일세\\n무궁화 삼천리\\n화려 강산\\n대한 사람 대한으로\\n길이 보전하세\\n이 기상과 이 맘으로\\n충성을 다하여\\n괴로우나 즐거우나\\n나라 사랑하세\\n무궁화 삼천리\\n화려 강산\\n대한 사람 대한으로\\n길이 보전하세'"
      ]
     },
     "execution_count": 42,
     "metadata": {},
     "output_type": "execute_result"
    }
   ],
   "source": [
    "f=open(\"애국가.txt\",encoding=\"UTF-8\")\n",
    "r=f.read()\n",
    "f.close()\n",
    "r"
   ]
  },
  {
   "cell_type": "markdown",
   "metadata": {},
   "source": [
    "## 파일 쓰기"
   ]
  },
  {
   "cell_type": "markdown",
   "metadata": {},
   "source": [
    "### f.write(내용)\n",
    "파일에다가 내용을 쓰는 메서드 입니다"
   ]
  },
  {
   "cell_type": "code",
   "execution_count": 46,
   "metadata": {},
   "outputs": [],
   "source": [
    "f=open('write.txt','w')\n",
    "f.write(\"안녕하세여\")\n",
    "f.close()"
   ]
  },
  {
   "cell_type": "code",
   "execution_count": 53,
   "metadata": {},
   "outputs": [
    {
     "ename": "TypeError",
     "evalue": "write() argument must be str, not int",
     "output_type": "error",
     "traceback": [
      "\u001b[1;31m---------------------------------------------------------------------------\u001b[0m",
      "\u001b[1;31mTypeError\u001b[0m                                 Traceback (most recent call last)",
      "Cell \u001b[1;32mIn[53], line 2\u001b[0m\n\u001b[0;32m      1\u001b[0m f\u001b[38;5;241m=\u001b[39m\u001b[38;5;28mopen\u001b[39m(\u001b[38;5;124m'\u001b[39m\u001b[38;5;124mwriteint.txt\u001b[39m\u001b[38;5;124m'\u001b[39m,\u001b[38;5;124m'\u001b[39m\u001b[38;5;124mw\u001b[39m\u001b[38;5;124m'\u001b[39m)\n\u001b[1;32m----> 2\u001b[0m \u001b[43mf\u001b[49m\u001b[38;5;241;43m.\u001b[39;49m\u001b[43mwrite\u001b[49m\u001b[43m(\u001b[49m\u001b[38;5;241;43m123\u001b[39;49m\u001b[43m)\u001b[49m\n\u001b[0;32m      3\u001b[0m f\u001b[38;5;241m.\u001b[39mclose()\n",
      "\u001b[1;31mTypeError\u001b[0m: write() argument must be str, not int"
     ]
    }
   ],
   "source": [
    "f=open('writeint.txt','w')\n",
    "f.write(123)\n",
    "f.close()"
   ]
  },
  {
   "cell_type": "markdown",
   "metadata": {},
   "source": [
    "## 한글이 깨진다면"
   ]
  },
  {
   "cell_type": "code",
   "execution_count": 47,
   "metadata": {},
   "outputs": [],
   "source": [
    "f=open('writeUTF-8.txt','w',encoding='UTF-8')\n",
    "f.write(\"안녕하세여\")\n",
    "f.close()"
   ]
  },
  {
   "cell_type": "markdown",
   "metadata": {},
   "source": [
    "### f.writelines(순서가 있는 자료구조)\n",
    "파일에다가 내용을 쓰는 메서드 입니다"
   ]
  },
  {
   "cell_type": "code",
   "execution_count": 55,
   "metadata": {},
   "outputs": [],
   "source": [
    "f=open('writelist.txt','w',encoding='UTF-8')\n",
    "f.writelines(['안녕하세요\\n','저는 안영진 입니다\\n','이건 리스트를 합쳐서 만들었습니다'])\n",
    "f.close()"
   ]
  },
  {
   "cell_type": "code",
   "execution_count": 58,
   "metadata": {},
   "outputs": [],
   "source": [
    "f=open('writetuple.txt','w',encoding='UTF-8')\n",
    "f.writelines(('안녕하세요\\n','저는 안영진 입니다\\n','이건 튜플을 합쳐서 만들었습니다'))\n",
    "f.close()"
   ]
  },
  {
   "cell_type": "markdown",
   "metadata": {},
   "source": [
    "## 뒤에 내용 추가하기"
   ]
  },
  {
   "cell_type": "code",
   "execution_count": 59,
   "metadata": {},
   "outputs": [],
   "source": [
    "f=open('append.txt','a',encoding='UTF-8')#쓰기랑 똑같지만 w대신 a를 쓰면 된다\n",
    "f.write(\"추가했어요\")\n",
    "f.close()"
   ]
  },
  {
   "cell_type": "markdown",
   "metadata": {},
   "source": [
    "## with open () as f:\n",
    "파일을 열고 닫을 때 f.close를 하는것은 너무 귀찮습니다 그래서 with open() as 문을 사용하여 f.close를 안쓰고 파일이 자동적으로 닫히게 할수 있습니다"
   ]
  },
  {
   "cell_type": "code",
   "execution_count": 51,
   "metadata": {},
   "outputs": [
    {
     "data": {
      "text/plain": [
       "\"The snow glows white on the mountain tonight\\nNot a footprint to be seen\\nA kingdom of isolation\\nAnd it looks like I'm the Queen\\n\\nThe wind is howling like this swirling storm inside\\nCouldn't keep it in, heaven knows I tried\\n\\nDon't let them in, don't let them see\\nBe the good girl you always have to be\\nConceal, don't feel, don't let them know\\nWell, now they know\\n\\nLet it go, let it go\\nCan't hold it back anymore\\nLet it go, let it go\\nTurn away and slam the door\\nI don't care what they're going to say\\nLet the storm rage on\\nThe cold never bothered me anyway\\n\\nIt's funny how some distance\\nMakes everything seem small\\nAnd the fears that once controlled me\\nCan't get to me at all\\n\\nIt's time to see what I can do\\nTo test the limits and break through\\nNo right, no wrong, no rules for me\\nI'm free\\n\\nLet it go, let it go\\nI am one with the wind and sky\\nLet it go, let it go\\nYou'll never see me cry\\nHere I stand\\nAnd here I'll stay\\nLet the storm rage on\\n\\nMy power flurries through the air into the ground\\nMy soul is spiraling in frozen fractals all around\\nAnd one thought crystallizes like an icy blast\\nI'm never going back, the past is in the past\\n\\nLet it go, let it go\\nAnd I'll rise like the break of dawn\\nLet it go, let it go\\nThat perfect girl is gone\\nHere I stand in the light of day\\nLet the storm rage on\\nThe cold never bothered me anyway\""
      ]
     },
     "execution_count": 51,
     "metadata": {},
     "output_type": "execute_result"
    }
   ],
   "source": [
    "'''\n",
    "f=open(\"let it go.txt\",'r')#open(\"let it go.txt\")이랑 똑같음\n",
    "r=f.read()\n",
    "f.close()\n",
    "r\n",
    "이랑 같은 코드다\n",
    "'''\n",
    "with open(\"let it go.txt\") as f:\n",
    "    r=f.read()\n",
    "r"
   ]
  },
  {
   "cell_type": "code",
   "execution_count": 52,
   "metadata": {},
   "outputs": [
    {
     "data": {
      "text/plain": [
       "['The snow glows white on the mountain tonight\\n',\n",
       " 'Not a footprint to be seen\\n',\n",
       " 'A kingdom of isolation\\n',\n",
       " \"And it looks like I'm the Queen\\n\",\n",
       " '\\n',\n",
       " 'The wind is howling like this swirling storm inside\\n',\n",
       " \"Couldn't keep it in, heaven knows I tried\\n\",\n",
       " '\\n',\n",
       " \"Don't let them in, don't let them see\\n\",\n",
       " 'Be the good girl you always have to be\\n',\n",
       " \"Conceal, don't feel, don't let them know\\n\",\n",
       " 'Well, now they know\\n',\n",
       " '\\n',\n",
       " 'Let it go, let it go\\n',\n",
       " \"Can't hold it back anymore\\n\",\n",
       " 'Let it go, let it go\\n',\n",
       " 'Turn away and slam the door\\n',\n",
       " \"I don't care what they're going to say\\n\",\n",
       " 'Let the storm rage on\\n',\n",
       " 'The cold never bothered me anyway\\n',\n",
       " '\\n',\n",
       " \"It's funny how some distance\\n\",\n",
       " 'Makes everything seem small\\n',\n",
       " 'And the fears that once controlled me\\n',\n",
       " \"Can't get to me at all\\n\",\n",
       " '\\n',\n",
       " \"It's time to see what I can do\\n\",\n",
       " 'To test the limits and break through\\n',\n",
       " 'No right, no wrong, no rules for me\\n',\n",
       " \"I'm free\\n\",\n",
       " '\\n',\n",
       " 'Let it go, let it go\\n',\n",
       " 'I am one with the wind and sky\\n',\n",
       " 'Let it go, let it go\\n',\n",
       " \"You'll never see me cry\\n\",\n",
       " 'Here I stand\\n',\n",
       " \"And here I'll stay\\n\",\n",
       " 'Let the storm rage on\\n',\n",
       " '\\n',\n",
       " 'My power flurries through the air into the ground\\n',\n",
       " 'My soul is spiraling in frozen fractals all around\\n',\n",
       " 'And one thought crystallizes like an icy blast\\n',\n",
       " \"I'm never going back, the past is in the past\\n\",\n",
       " '\\n',\n",
       " 'Let it go, let it go\\n',\n",
       " \"And I'll rise like the break of dawn\\n\",\n",
       " 'Let it go, let it go\\n',\n",
       " 'That perfect girl is gone\\n',\n",
       " 'Here I stand in the light of day\\n',\n",
       " 'Let the storm rage on\\n',\n",
       " 'The cold never bothered me anyway']"
      ]
     },
     "execution_count": 52,
     "metadata": {},
     "output_type": "execute_result"
    }
   ],
   "source": [
    "'''\n",
    "f=open(\"let it go.txt\",'r')#open(\"let it go.txt\")이랑 똑같음\n",
    "r=f.read()\n",
    "f.close()\n",
    "r\n",
    "이랑 같은 코드다\n",
    "'''\n",
    "with open(\"let it go.txt\") as f:\n",
    "    r=f.readlines()\n",
    "r"
   ]
  },
  {
   "cell_type": "markdown",
   "metadata": {},
   "source": [
    "# csv란?\n",
    "콤마로 구분된 텍스트 파일\n",
    "## 파일내용\n",
    "```bash\n",
    "이름, 태어난 년도, 성별\n",
    "안영진, 2004, 남자\n",
    "최서윤, 2005, 여자\n",
    "```\n",
    "## 엑셀로 열었을 때\n",
    "| 이름   | 태어난 년도 | 성별 |\n",
    "|--------|-------------|------|\n",
    "| 안영진 | 2004        | 남자 |\n",
    "| 최서윤 | 2005        | 여자 |"
   ]
  },
  {
   "cell_type": "markdown",
   "metadata": {},
   "source": [
    "## 방법 1 : csv 사용하기"
   ]
  },
  {
   "cell_type": "code",
   "execution_count": 4,
   "metadata": {},
   "outputs": [
    {
     "name": "stdout",
     "output_type": "stream",
     "text": [
      "['이름', ' 태어난 년도', ' 성별']\n",
      "['안영진', ' 2004', ' 남자']\n",
      "['최서윤', ' 2005', ' 여자']\n"
     ]
    }
   ],
   "source": [
    "import csv# csv라는 모듈을 불러온다\n",
    "with open('학생정보.csv',encoding=\"UTF-8\") as f:\n",
    "    for line in csv.reader(f):\n",
    "        print(line)"
   ]
  },
  {
   "cell_type": "markdown",
   "metadata": {},
   "source": [
    "## 방법 2 : pandas 사용하기(추천)\n",
    "pandas는 파이썬의 데이터 분석 패키지로 엑셀이나 csv파일을 읽어서 합을 구하거나 두개의 엑셀파일을 합쳐서 하나의 엑셀파일로 만들수 있는 패키지 엑셀에 매우 강력한 패키지입니다."
   ]
  }
 ],
 "metadata": {
  "kernelspec": {
   "display_name": "Python 3",
   "language": "python",
   "name": "python3"
  },
  "language_info": {
   "codemirror_mode": {
    "name": "ipython",
    "version": 3
   },
   "file_extension": ".py",
   "mimetype": "text/x-python",
   "name": "python",
   "nbconvert_exporter": "python",
   "pygments_lexer": "ipython3",
   "version": "3.11.9"
  }
 },
 "nbformat": 4,
 "nbformat_minor": 2
}
