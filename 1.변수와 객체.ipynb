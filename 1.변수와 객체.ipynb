{
 "cells": [
  {
   "cell_type": "markdown",
   "metadata": {},
   "source": [
    "# 마크다운이란?\n",
    "- 일반 텍스트 문서의 양식을 편집하는 문법\n",
    "- HTML과 같은 마크업(MarkUp)언어에 비해 문법이 쉽고 간단함"
   ]
  },
  {
   "cell_type": "markdown",
   "metadata": {},
   "source": [
    "# 변수와 객체?\n",
    "<table>\n",
    "<tr><th>객체</th><td>메모리에 저장되는 데이터(글자, 숫자 등)</td></tr>\n",
    "<tr><th>변수</th><td>객체에 가기위한 다리</td></tr>\n",
    "<tr><th>변수명</th><td>객체에 가기위한 다리의 이름</td></tr>\n",
    "</table>\n"
   ]
  },
  {
   "cell_type": "code",
   "execution_count": 10,
   "metadata": {},
   "outputs": [
    {
     "data": {
      "text/plain": [
       "10"
      ]
     },
     "execution_count": 10,
     "metadata": {},
     "output_type": "execute_result"
    }
   ],
   "source": [
    "a=10\n",
    "a"
   ]
  },
  {
   "cell_type": "markdown",
   "metadata": {},
   "source": [
    "코드해석 : 변수 a에다가 객체 10을 대입한다"
   ]
  },
  {
   "cell_type": "markdown",
   "metadata": {},
   "source": [
    "# 변수명을 짓는규칙"
   ]
  },
  {
   "cell_type": "markdown",
   "metadata": {},
   "source": [
    "## 변수명은 숫자와 영어, _으로 이루어져야한다"
   ]
  },
  {
   "cell_type": "code",
   "execution_count": 11,
   "metadata": {},
   "outputs": [
    {
     "ename": "SyntaxError",
     "evalue": "cannot assign to expression here. Maybe you meant '==' instead of '='? (3748204118.py, line 2)",
     "output_type": "error",
     "traceback": [
      "\u001b[1;36m  Cell \u001b[1;32mIn[11], line 2\u001b[1;36m\u001b[0m\n\u001b[1;33m    -a=1\u001b[0m\n\u001b[1;37m    ^\u001b[0m\n\u001b[1;31mSyntaxError\u001b[0m\u001b[1;31m:\u001b[0m cannot assign to expression here. Maybe you meant '==' instead of '='?\n"
     ]
    }
   ],
   "source": [
    "a=2\n",
    "-a=1\n",
    "b=-a"
   ]
  },
  {
   "cell_type": "markdown",
   "metadata": {},
   "source": [
    "위 코드를 보면 뭔가 이상한걸 알수가 있죠? b에다가 -a를 대입한다는건데 a의 -1을 곱한값을 대입하는건지 -a를 대입하는건지 헷갈릴수 있기 때문에 변수명은 반드시 영어와 숫자, _으로 이루어 져야합니다"
   ]
  },
  {
   "cell_type": "markdown",
   "metadata": {},
   "source": [
    "## 앞에 숫자를 붙히면 안된다\n",
    "우리가 수학 공부를 했을때 생각해봅시다.\n",
    "2x라고하면 우리는 이름이 2x인 변수라고 생각하기보다는 x에다가 2를 곱한거라고 생각합니다.\n",
    "컴퓨터도 똑같이 2x라고 했을때 변수명이 2x다 라고 판단하기 보다는 값과 변수명이 섞인거라고 인식하기 때문에 앞에 숫자를 붙히면 안됍니다"
   ]
  },
  {
   "cell_type": "code",
   "execution_count": 10,
   "metadata": {},
   "outputs": [
    {
     "ename": "SyntaxError",
     "evalue": "invalid decimal literal (2728738461.py, line 1)",
     "output_type": "error",
     "traceback": [
      "\u001b[1;36m  Cell \u001b[1;32mIn[10], line 1\u001b[1;36m\u001b[0m\n\u001b[1;33m    2x=10\u001b[0m\n\u001b[1;37m    ^\u001b[0m\n\u001b[1;31mSyntaxError\u001b[0m\u001b[1;31m:\u001b[0m invalid decimal literal\n"
     ]
    }
   ],
   "source": [
    "2x=10\n",
    "2x"
   ]
  },
  {
   "cell_type": "markdown",
   "metadata": {},
   "source": [
    "## 주의할점 : 변수명 중간이나 뒤에는 숫자를 넣어도 된다"
   ]
  },
  {
   "cell_type": "code",
   "execution_count": 16,
   "metadata": {},
   "outputs": [
    {
     "data": {
      "text/plain": [
       "(10, 10)"
      ]
     },
     "execution_count": 16,
     "metadata": {},
     "output_type": "execute_result"
    }
   ],
   "source": [
    "_1_=10\n",
    "x1=10\n",
    "_1_,x1"
   ]
  },
  {
   "cell_type": "markdown",
   "metadata": {},
   "source": [
    "## 공백이 들어가면 안됀다\n",
    "a b c 라는 변수가 있다고 생각해봅시다. 컴퓨터가 생각하기에는 변수명이 a b c인건진 a,b,c의 오타인건지 헷갈립니다 변수명에는 공백이 들어가면 안됍니다"
   ]
  },
  {
   "cell_type": "code",
   "execution_count": 18,
   "metadata": {},
   "outputs": [
    {
     "ename": "SyntaxError",
     "evalue": "invalid syntax (1017678156.py, line 1)",
     "output_type": "error",
     "traceback": [
      "\u001b[1;36m  Cell \u001b[1;32mIn[18], line 1\u001b[1;36m\u001b[0m\n\u001b[1;33m    a b c=10\u001b[0m\n\u001b[1;37m      ^\u001b[0m\n\u001b[1;31mSyntaxError\u001b[0m\u001b[1;31m:\u001b[0m invalid syntax\n"
     ]
    }
   ],
   "source": [
    "a b c=10\n",
    "a b c"
   ]
  },
  {
   "cell_type": "markdown",
   "metadata": {},
   "source": [
    "## 키워드나 이미 있는 내장되어 있는 파이썬의 기능을 변수명으로 넣으면 안된다\n",
    "print()는 출력해주는 기능입니다. 만약 print에다가 100을 대입하면 print는 출력해주는 기능의 역할을 잃고 그져 100을 저장하는 변수가 되어있습니다"
   ]
  },
  {
   "cell_type": "code",
   "execution_count": 20,
   "metadata": {},
   "outputs": [
    {
     "name": "stdout",
     "output_type": "stream",
     "text": [
      "100\n"
     ]
    },
    {
     "ename": "TypeError",
     "evalue": "'int' object is not callable",
     "output_type": "error",
     "traceback": [
      "\u001b[1;31m---------------------------------------------------------------------------\u001b[0m",
      "\u001b[1;31mTypeError\u001b[0m                                 Traceback (most recent call last)",
      "Cell \u001b[1;32mIn[20], line 3\u001b[0m\n\u001b[0;32m      1\u001b[0m \u001b[38;5;28mprint\u001b[39m(\u001b[38;5;241m100\u001b[39m)\n\u001b[0;32m      2\u001b[0m \u001b[38;5;28mprint\u001b[39m\u001b[38;5;241m=\u001b[39m\u001b[38;5;241m100\u001b[39m\n\u001b[1;32m----> 3\u001b[0m \u001b[38;5;28;43mprint\u001b[39;49m\u001b[43m(\u001b[49m\u001b[38;5;241;43m100\u001b[39;49m\u001b[43m)\u001b[49m\n",
      "\u001b[1;31mTypeError\u001b[0m: 'int' object is not callable"
     ]
    }
   ],
   "source": [
    "print(100)\n",
    "print=100\n",
    "print(100)"
   ]
  },
  {
   "cell_type": "markdown",
   "metadata": {},
   "source": [
    "## 변수의 선언법"
   ]
  },
  {
   "cell_type": "code",
   "execution_count": 1,
   "metadata": {},
   "outputs": [
    {
     "ename": "SyntaxError",
     "evalue": "invalid syntax. Maybe you meant '==' or ':=' instead of '='? (1138183328.py, line 1)",
     "output_type": "error",
     "traceback": [
      "\u001b[1;36m  Cell \u001b[1;32mIn[1], line 1\u001b[1;36m\u001b[0m\n\u001b[1;33m    a=10,b=20\u001b[0m\n\u001b[1;37m    ^\u001b[0m\n\u001b[1;31mSyntaxError\u001b[0m\u001b[1;31m:\u001b[0m invalid syntax. Maybe you meant '==' or ':=' instead of '='?\n"
     ]
    }
   ],
   "source": [
    "a=10,b=20"
   ]
  },
  {
   "cell_type": "code",
   "execution_count": 9,
   "metadata": {},
   "outputs": [
    {
     "name": "stdout",
     "output_type": "stream",
     "text": [
      "1234\n"
     ]
    },
    {
     "data": {
      "text/plain": [
       "(10, 20)"
      ]
     },
     "execution_count": 9,
     "metadata": {},
     "output_type": "execute_result"
    }
   ],
   "source": [
    "a=10;b=20;print(1234);#;을 구분하여 한줄에 여러줄의 코드를 작성한다\n",
    "a,b"
   ]
  },
  {
   "cell_type": "code",
   "execution_count": 8,
   "metadata": {},
   "outputs": [
    {
     "data": {
      "text/plain": [
       "(1, 2)"
      ]
     },
     "execution_count": 8,
     "metadata": {},
     "output_type": "execute_result"
    }
   ],
   "source": [
    "a,b=1,2#각각의 같은 갯수의 값을 대입할떄 쓴다\n",
    "a,b"
   ]
  },
  {
   "cell_type": "code",
   "execution_count": null,
   "metadata": {},
   "outputs": [],
   "source": [
    "# 자료형\n",
    "데이터의 저장방식을 자료형이라고 합니다"
   ]
  },
  {
   "cell_type": "markdown",
   "metadata": {},
   "source": [
    "# 데이터들의 자료형\n",
    "<table>\n",
    "<tr><th>수치형(Numerical)</th><th>부울형(Boolean)</th><th>콘테이너형(Container)</th></tr>\n",
    "<tr><td><ul><li>int(정수)<li>float(실수)</ul></td><td><ul><li>True(참)<li>False(거짓)</ul></td><td><ul><li>str(문자열)<li>list(리스트)<li>tuple(튜플)<li>set(집합)<li>dict(딕셔너리)</ul></td></tr>\n",
    "</table>"
   ]
  },
  {
   "cell_type": "markdown",
   "metadata": {},
   "source": [
    "## 수치형 자료형\n",
    "수치형 자료형은 데이터의 저장방식이 숫자인 자료형입니다. 대표적으로 실수와 정수가 있습니다<br>\n",
    "<img src=\"https://t1.daumcdn.net/cfile/tistory/2457934C57165F6C33\">"
   ]
  },
  {
   "cell_type": "markdown",
   "metadata": {},
   "source": [
    "# 자료형을 찾아보는 방법\n",
    "type(변수명 또는 값)"
   ]
  },
  {
   "cell_type": "code",
   "execution_count": 17,
   "metadata": {},
   "outputs": [
    {
     "data": {
      "text/plain": [
       "(int, float)"
      ]
     },
     "execution_count": 17,
     "metadata": {},
     "output_type": "execute_result"
    }
   ],
   "source": [
    "type(1),type(3.14159265358979)"
   ]
  },
  {
   "cell_type": "markdown",
   "metadata": {},
   "source": [
    "## 알수 있는점\n",
    "정수의 자료형은 int이고 실수의 자료형은 float인걸 알수 있습니다\n"
   ]
  },
  {
   "cell_type": "markdown",
   "metadata": {},
   "source": [
    "<table>\n",
    "<tr><th>종류</th><th>자료형</th></tr>\n",
    "<tr><td>정수</td><td>int</td></tr>\n",
    "<tr><td>실수</td><td>float</td></tr>\n",
    "</table>"
   ]
  },
  {
   "cell_type": "markdown",
   "metadata": {},
   "source": [
    "# 실수의 표현"
   ]
  },
  {
   "cell_type": "markdown",
   "metadata": {},
   "source": [
    "## 기본적인 방식"
   ]
  },
  {
   "cell_type": "code",
   "execution_count": 25,
   "metadata": {},
   "outputs": [
    {
     "data": {
      "text/plain": [
       "3.14159265358979"
      ]
     },
     "execution_count": 25,
     "metadata": {},
     "output_type": "execute_result"
    }
   ],
   "source": [
    "3.14159265358979"
   ]
  },
  {
   "cell_type": "markdown",
   "metadata": {},
   "source": [
    "## 0을 채우는 방식"
   ]
  },
  {
   "cell_type": "code",
   "execution_count": 27,
   "metadata": {},
   "outputs": [
    {
     "data": {
      "text/plain": [
       "(3.0, 0.1234)"
      ]
     },
     "execution_count": 27,
     "metadata": {},
     "output_type": "execute_result"
    }
   ],
   "source": [
    "3.,.1234"
   ]
  },
  {
   "cell_type": "markdown",
   "metadata": {},
   "source": [
    "## 과학적인 방식\n",
    "$$aeb=aEb=a\\times10^b$$"
   ]
  },
  {
   "cell_type": "code",
   "execution_count": 33,
   "metadata": {},
   "outputs": [
    {
     "data": {
      "text/plain": [
       "200.0"
      ]
     },
     "execution_count": 33,
     "metadata": {},
     "output_type": "execute_result"
    }
   ],
   "source": [
    "2e2"
   ]
  },
  {
   "cell_type": "markdown",
   "metadata": {},
   "source": [
    "# 산술 연산자\n",
    "산술연산자는 변수끼리의 계산을 작업해주는 기능으로 종류는 아래와 같습니다<br>\n",
    "<table>\n",
    "<tr>\n",
    "<th>기호</th><th>의미</th><th>예시</th><th>결과</th>\n",
    "</tr>\n",
    "<tr>\n",
    "<td>=</td><td>대입</td><td>a=10</td><td>a의 값은 10이다</td>\n",
    "</tr>\n",
    "<tr>\n",
    "<td>+</td><td>덧셈</td><td>10+20</td><td>30</td>\n",
    "</tr>\n",
    "<tr>\n",
    "<td>-</td><td>뺄셈</td><td>10-20</td><td>-10</td>\n",
    "</tr>\n",
    "<tr>\n",
    "<td>*</td><td>곱셈</td><td>10*20</td><td>200</td>\n",
    "</tr>\n",
    "<tr>\n",
    "<td>/</td><td>나눗셈</td><td>25/10</td><td>2.5</td>\n",
    "</tr>\n",
    "<tr>\n",
    "<td>%</td><td>나머지</td><td>25%10</td><td>5</td>\n",
    "</tr>\n",
    "<tr>\n",
    "<td>//</td><td>몫</td><td>25//10</td><td>2</td>\n",
    "</tr>\n",
    "<tr>\n",
    "<td>**</td><td>제곱</td><td>10**3</td><td>100</td>\n",
    "</tr>\n",
    "</table>"
   ]
  },
  {
   "cell_type": "markdown",
   "metadata": {},
   "source": [
    "# 할당 연산자\n",
    "```py\n",
    "a=10\n",
    "a=a+10\n",
    "```\n",
    "이런식으로 쓰는것은 귀찮습니다. 그래서 할당연산자를 통해서 더 간략하게 요약할수 있습니다\n",
    "<table>\n",
    "<tr>\n",
    "<th>기호</th><th>의미</th><th>예시</th><th>풀어쓴거</th>\n",
    "</tr>\n",
    "<tr>\n",
    "<td>+=</td><td>덧셈</td><td>a+=20</td><td>a=a+20</td>\n",
    "</tr>\n",
    "<tr>\n",
    "<td>-</td><td>뺄셈</td><td>a-=20</td><td>a=a-20</td>\n",
    "</tr>\n",
    "<tr>\n",
    "<td>*</td><td>곱셈</td><td>a*=20</td><td>a=a*20</td>\n",
    "</tr>\n",
    "<tr>\n",
    "<td>/</td><td>나눗셈</td><td>a/=10</td><td>a=a/10</td>\n",
    "</tr>\n",
    "<tr>\n",
    "<td>%</td><td>나머지</td><td>a%=10</td><td>a=a%10</td>\n",
    "</tr>\n",
    "<tr>\n",
    "<td>//</td><td>몫</td><td>a//=10</td><td>a=a//10</td>\n",
    "</tr>\n",
    "<tr>\n",
    "<td>**</td><td>제곱</td><td>a**=3</td><td>a=a**3</td>\n",
    "</tr>\n",
    "</table>"
   ]
  },
  {
   "cell_type": "markdown",
   "metadata": {},
   "source": [
    "# 식별자란?\n",
    "식별자는 객체의 이름으로 지금 배운 변수의 이름과 나중에 배울 클래스명, 함수명에도 포함이 됩니다"
   ]
  },
  {
   "cell_type": "markdown",
   "metadata": {},
   "source": [
    "# id함수 \n",
    "객체의 메모리 주소를 불러온다"
   ]
  },
  {
   "cell_type": "code",
   "execution_count": 1,
   "metadata": {},
   "outputs": [
    {
     "data": {
      "text/plain": [
       "(140719759127624, 140719759127656, 140719759127656)"
      ]
     },
     "execution_count": 1,
     "metadata": {},
     "output_type": "execute_result"
    }
   ],
   "source": [
    "a=10\n",
    "b=a+1\n",
    "id(a),id(b),id(a+1)"
   ]
  },
  {
   "cell_type": "markdown",
   "metadata": {},
   "source": [
    "# 주석\n",
    "우리는 프로그래밍을 할때 해당코드가 무슨역할을 하는지 헷갈립니다 그래서 코드에다가 이 코드가 무슨역할을 하는지 알려주는것을 주석이라고 합니다"
   ]
  },
  {
   "cell_type": "code",
   "execution_count": 3,
   "metadata": {},
   "outputs": [
    {
     "data": {
      "text/plain": [
       "10"
      ]
     },
     "execution_count": 3,
     "metadata": {},
     "output_type": "execute_result"
    }
   ],
   "source": [
    "#한줄 주석은 앞에다가 #을 붙힌다\n",
    "'''\n",
    "여러줄 주석은\n",
    "따옴표나 쌍따옴표 안에 작성한다\n",
    "'''\n",
    "a=10\n",
    "a"
   ]
  }
 ],
 "metadata": {
  "kernelspec": {
   "display_name": "Python 3",
   "language": "python",
   "name": "python3"
  },
  "language_info": {
   "codemirror_mode": {
    "name": "ipython",
    "version": 3
   },
   "file_extension": ".py",
   "mimetype": "text/x-python",
   "name": "python",
   "nbconvert_exporter": "python",
   "pygments_lexer": "ipython3",
   "version": "3.11.9"
  }
 },
 "nbformat": 4,
 "nbformat_minor": 2
}
