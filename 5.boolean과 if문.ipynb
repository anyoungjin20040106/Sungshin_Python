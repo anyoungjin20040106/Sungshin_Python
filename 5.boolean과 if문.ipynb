{
 "cells": [
  {
   "cell_type": "markdown",
   "metadata": {},
   "source": [
    "# input함수\n",
    "우리는 ``print`` 함수를 통해 내용을 출력했습니다 만약 내용을 입력받고 싶다면 ``input`` 함수를 통해서 내용을 입력받으면 됩니다"
   ]
  },
  {
   "cell_type": "code",
   "execution_count": 24,
   "metadata": {},
   "outputs": [
    {
     "data": {
      "text/plain": [
       "'당신의 이름 : 안영진'"
      ]
     },
     "execution_count": 24,
     "metadata": {},
     "output_type": "execute_result"
    }
   ],
   "source": [
    "name=input()\n",
    "\"당신의 이름 : \"+name"
   ]
  },
  {
   "cell_type": "markdown",
   "metadata": {},
   "source": [
    "## input함수 ()안에 내용이 있다면?"
   ]
  },
  {
   "cell_type": "code",
   "execution_count": 25,
   "metadata": {},
   "outputs": [
    {
     "data": {
      "text/plain": [
       "'당신의 이름 : 안영진'"
      ]
     },
     "execution_count": 25,
     "metadata": {},
     "output_type": "execute_result"
    }
   ],
   "source": [
    "name=input(\"이름을 입력해주세요 : \")\n",
    "\"당신의 이름 : \"+name"
   ]
  },
  {
   "cell_type": "markdown",
   "metadata": {},
   "source": [
    "## 입력된 값의 자료형"
   ]
  },
  {
   "cell_type": "code",
   "execution_count": 1,
   "metadata": {},
   "outputs": [
    {
     "name": "stdout",
     "output_type": "stream",
     "text": [
      "입력한 숫자 :  1234\n",
      "num의 자료형 :  <class 'str'>\n"
     ]
    }
   ],
   "source": [
    "num=input(\"숫자를 입력해주세요\")\n",
    "print(\"입력한 숫자 : \",num)\n",
    "print(\"num의 자료형 : \",type(num))##입력된 값은 항상 문자열로 인식함"
   ]
  },
  {
   "cell_type": "markdown",
   "metadata": {},
   "source": [
    "## 계산기 만들기"
   ]
  },
  {
   "cell_type": "code",
   "execution_count": 27,
   "metadata": {},
   "outputs": [
    {
     "name": "stdout",
     "output_type": "stream",
     "text": [
      "10+2=12\n",
      "10-2=8\n",
      "10*2=20\n",
      "10/2=5.0\n"
     ]
    }
   ],
   "source": [
    "num1=int(input(\"숫자를 입력해주세요\"))#정수로 반환\n",
    "num2=int(input(\"숫자를 입력해주세요\"))#정수로 반환\n",
    "print(str(num1)+\"+\"+str(num2)+\"=\"+str(num1+num2))\n",
    "print(str(num1)+\"-\"+str(num2)+\"=\"+str(num1-num2))\n",
    "print(str(num1)+\"*\"+str(num2)+\"=\"+str(num1*num2))\n",
    "print(str(num1)+\"/\"+str(num2)+\"=\"+str(num1/num2))"
   ]
  },
  {
   "cell_type": "markdown",
   "metadata": {},
   "source": [
    "# boolean이란?\n",
    "boolean은 True와 False로 이루어진 자료형입니다"
   ]
  },
  {
   "cell_type": "markdown",
   "metadata": {},
   "source": [
    "## boolean의 연산자\n",
    "\n",
    "| **기호** | **설명**       | **예시**          | **결과** |\n",
    "|:--------:|:--------------|:------------------|:--------|\n",
    "| `==`     | 같다          | `1 == 1`          | `True`  |\n",
    "| `!=`     | 다르다        | `1 != 1`          | `False` |\n",
    "| `>`      | 크다          | `2 > 1`           | `True`  |\n",
    "| `<`      | 작다          | `2 < 1`           | `False` |\n",
    "| `>=`     | 크거나 같다   | `2 >= 2`          | `True`  |\n",
    "| `<=`     | 작거나 같다   | `1 <= 2`          | `True`  |\n",
    "| `and`    | 그리고        | `(1==1) and (2<=1)`  | `False` |\n",
    "| `or`     | 또는          | `(1==1) or (2<=1)`   | `True`  |\n",
    "| `not`    | 부정          | `not (1==1)`        | `False` |\n"
   ]
  },
  {
   "cell_type": "code",
   "execution_count": 10,
   "metadata": {},
   "outputs": [
    {
     "name": "stdout",
     "output_type": "stream",
     "text": [
      "True==False is False\n",
      "\"안영진\" != \"최서윤\" is True\n",
      "2 > 1 is True\n",
      "1 < 2 is True\n",
      "2 >= 2 is True\n",
      "7 <= 100 is True\n",
      "(1==1) and True is True\n",
      "(1==1) or False is True\n",
      "not (1==1) is False\n"
     ]
    }
   ],
   "source": [
    "result = [\n",
    "    \"True==False is \" + str(True == False) ,\n",
    "    '\"안영진\" != \"최서윤\" is ' + str(\"안영진\" != \"최서윤\") ,\n",
    "    \"2 > 1 is \" + str(2 > 1) ,\n",
    "    \"1 < 2 is \" + str(1 < 2) ,\n",
    "    \"2 >= 2 is \" + str(2 >= 2) ,\n",
    "    \"7 <= 100 is \" + str(7 <= 100) ,\n",
    "    \"(1==1) and True is \" + str((1 == 1) and True) ,\n",
    "    \"(1==1) or False is \" + str((1 == 1) or False) ,\n",
    "    \"not (1==1) is \" + str(not (1 == 1))\n",
    "]\n",
    "\n",
    "for r in result:\n",
    "    print(r)"
   ]
  },
  {
   "cell_type": "markdown",
   "metadata": {},
   "source": [
    "## 맴버 연산자"
   ]
  },
  {
   "cell_type": "markdown",
   "metadata": {},
   "source": [
    "## boolean의 타입"
   ]
  },
  {
   "cell_type": "code",
   "execution_count": 12,
   "metadata": {},
   "outputs": [
    {
     "data": {
      "text/plain": [
       "bool"
      ]
     },
     "execution_count": 12,
     "metadata": {},
     "output_type": "execute_result"
    }
   ],
   "source": [
    "type(True)"
   ]
  },
  {
   "cell_type": "markdown",
   "metadata": {},
   "source": [
    "## =은 뭐냐?\n",
    "=은 할당(assign) 연산자 입니다(같다의 뜻이 절대로 아닙니다)"
   ]
  },
  {
   "cell_type": "code",
   "execution_count": 11,
   "metadata": {},
   "outputs": [
    {
     "data": {
      "text/plain": [
       "10"
      ]
     },
     "execution_count": 11,
     "metadata": {},
     "output_type": "execute_result"
    }
   ],
   "source": [
    "a=10\n"
   ]
  },
  {
   "cell_type": "markdown",
   "metadata": {},
   "source": [
    "### 다중 할당"
   ]
  },
  {
   "cell_type": "code",
   "execution_count": 13,
   "metadata": {},
   "outputs": [
    {
     "data": {
      "text/plain": [
       "(14, 14, 14)"
      ]
     },
     "execution_count": 13,
     "metadata": {},
     "output_type": "execute_result"
    }
   ],
   "source": [
    "n1=n2=n3=14\n",
    "n1,n2,n3"
   ]
  },
  {
   "cell_type": "markdown",
   "metadata": {},
   "source": [
    "### 동시할당"
   ]
  },
  {
   "cell_type": "code",
   "execution_count": 14,
   "metadata": {},
   "outputs": [
    {
     "data": {
      "text/plain": [
       "(10, 20)"
      ]
     },
     "execution_count": 14,
     "metadata": {},
     "output_type": "execute_result"
    }
   ],
   "source": [
    "x,y=10,20#(x,y)=(10,20)이랑 같은뜻\n",
    "x,y"
   ]
  },
  {
   "cell_type": "markdown",
   "metadata": {},
   "source": [
    "## Identity 연산자(is, is not)\n",
    "두개의 변수가 동일한 객체를 가리키는지 검사하는 연산자"
   ]
  },
  {
   "cell_type": "code",
   "execution_count": 17,
   "metadata": {},
   "outputs": [
    {
     "name": "stdout",
     "output_type": "stream",
     "text": [
      "id(a) :  140722814939944\n",
      "id(b) :  140722814939944\n",
      "a is b :  True\n"
     ]
    }
   ],
   "source": [
    "a=1\n",
    "b=1\n",
    "print(\"id(a) : \",id(a))\n",
    "print(\"id(b) : \",id(b))\n",
    "print(\"a is b : \",a is b)\n",
    "print(\"a is not b : \",a is not b)"
   ]
  },
  {
   "cell_type": "code",
   "execution_count": 19,
   "metadata": {},
   "outputs": [
    {
     "name": "stdout",
     "output_type": "stream",
     "text": [
      "id(a) :  2443156831744\n",
      "id(b) :  2443156672576\n",
      "a is b :  False\n",
      "a is not b :  True\n"
     ]
    }
   ],
   "source": [
    "a=[1,2]\n",
    "b=[1,2]\n",
    "print(\"id(a) : \",id(a))\n",
    "print(\"id(b) : \",id(b))\n",
    "print(\"a is b : \",a is b)\n",
    "print(\"a is not b : \",a is not b)"
   ]
  },
  {
   "cell_type": "markdown",
   "metadata": {},
   "source": [
    "# Boolean을 왜 쓸까?"
   ]
  },
  {
   "cell_type": "markdown",
   "metadata": {},
   "source": [
    "# if 조건문 \n",
    "if조건문은 해당 조건이 참인지 아닌지 판단하여 참이면 실행하고 참이 아니면 실행을 안하는 제어구조입니다"
   ]
  },
  {
   "cell_type": "markdown",
   "metadata": {},
   "source": [
    "## if문의 사용법\n",
    "```py\n",
    "if 조건:\n",
    "    해당 조건이 참일때 실행되는 명령문\n",
    "```\n",
    "앞에 빈칸은 tab키를 누르면 됩니다"
   ]
  },
  {
   "cell_type": "code",
   "execution_count": 28,
   "metadata": {},
   "outputs": [
    {
     "name": "stdout",
     "output_type": "stream",
     "text": [
      "138 은 3의 배수입니다\n",
      "x의 배수는 해당숫자에다가 x를 나눈 나머지가 0이면 x의 배수입니다\n",
      "프로그램을 종료하겠습니다\n"
     ]
    }
   ],
   "source": [
    "num=int(input(\"숫자를 입력해주세요\"))\n",
    "if num%3==0:#num이 3의 배수라면?\n",
    "    print(num,\"은 3의 배수입니다\")\n",
    "    print(\"x의 배수는 해당숫자에다가 x를 나눈 나머지가 0이면 x의 배수입니다\")\n",
    "print(\"프로그램을 종료하겠습니다\")"
   ]
  },
  {
   "cell_type": "markdown",
   "metadata": {},
   "source": [
    "## else\n",
    "else는 해당 조건이 거짓일때 실행되는 키워드입니다(안넣어도 됨)\n",
    "```py\n",
    "if 조건:\n",
    "    해당 조건이 참일때 실행되는 명령문\n",
    "else :\n",
    "    해당 조건이 거짓일때 실행되는 명령문\n",
    "```"
   ]
  },
  {
   "cell_type": "code",
   "execution_count": 31,
   "metadata": {},
   "outputs": [
    {
     "name": "stdout",
     "output_type": "stream",
     "text": [
      "10 은 3의 배수가 아닙니다\n",
      "3의 배수는 3,6,9,12...이 있습니다\n",
      "프로그램을 종료하겠습니다\n"
     ]
    }
   ],
   "source": [
    "num=int(input(\"숫자를 입력해주세요\"))\n",
    "if num%3==0:print(num,\"은 3의 배수입니다\")#조건문에 해당하는 블록이 한줄인 경우 :옆에 작성할수 있다\n",
    "else:#num이 3의 배수가 아니라면?\n",
    "    print(num,\"은 3의 배수가 아닙니다\")\n",
    "    print(\"3의 배수는 3,6,9,12...이 있습니다\")\n",
    "print(\"프로그램을 종료하겠습니다\")"
   ]
  },
  {
   "cell_type": "markdown",
   "metadata": {},
   "source": [
    "## elif\n",
    "if의 조건은 거짓이지만 새로운 조건이 참일떄 실행되는 키위드입니다(안넣어도됨, 여려개 넣어도 됨)\n",
    "```py\n",
    "if 조건:\n",
    "    해당 조건이 참일때 실행되는 명령문\n",
    "elif 조건:\n",
    "    해당 조건이 참일때 실행되는 명령문\n",
    "else :\n",
    "    해당 조건이 거짓일때 실행되는 명령문\n",
    "```"
   ]
  },
  {
   "cell_type": "code",
   "execution_count": 36,
   "metadata": {},
   "outputs": [
    {
     "name": "stdout",
     "output_type": "stream",
     "text": [
      "당신의 등급은 GOLD OLIVE입니다\n"
     ]
    }
   ],
   "source": [
    "money=int(input(\"사용한 금액을 입력해주세요(단위 : 만원)\"))\n",
    "if money>=100:#사용한 돈이 100만원 이상이라면?\n",
    "    print(\"당신의 등급은 GOLD OLIVE입니다\")\n",
    "elif money>=70:#사용한 돈이 70만원 이상이라면?\n",
    "    print(\"당신의 등급은 BLACK OLIVE입니다\")\n",
    "elif money>=40:#사용한 돈이 40만원 이상이라면?\n",
    "    print(\"당신의 등급은 GREEN OLIVE입니다\")\n",
    "elif money>=10:#사용한 돈이 10만원 이상이라면?\n",
    "    print(\"당신의 등급은 PINK OLIVE입니다\")\n",
    "else:#위에 조건들에 맞지 않으면?(사용한 돈이 10만원 미만이라면?)\n",
    "    print(\"당신의 등급은 BABY OLIVE입니다\")"
   ]
  },
  {
   "cell_type": "markdown",
   "metadata": {},
   "source": [
    "# 중첩된 if 조건문 "
   ]
  },
  {
   "cell_type": "code",
   "execution_count": 38,
   "metadata": {},
   "outputs": [
    {
     "name": "stdout",
     "output_type": "stream",
     "text": [
      "당신의 등급은 PINK OLIVE입니다\n"
     ]
    }
   ],
   "source": [
    "isUser=input(\"당신은 올리브영 회원입니까?(네 : Y, 아니요 : N))\")\n",
    "if isUser.upper()==\"Y\":#해당글자의 대문자가 Y라면?\n",
    "    money=int(input(\"사용한 금액을 입력해주세요(단위 : 만원)\"))\n",
    "    if money>=100:#사용한 돈이 100만원 이상이라면?\n",
    "        print(\"당신의 등급은 GOLD OLIVE입니다\")\n",
    "    elif money>=70:#사용한 돈이 70만원 이상이라면?\n",
    "        print(\"당신의 등급은 BLACK OLIVE입니다\")\n",
    "    elif money>=40:#사용한 돈이 40만원 이상이라면?\n",
    "        print(\"당신의 등급은 GREEN OLIVE입니다\")\n",
    "    elif money>=10:#사용한 돈이 10만원 이상이라면?\n",
    "        print(\"당신의 등급은 PINK OLIVE입니다\")\n",
    "    else:#위에 조건들에 맞지 않으면?(사용한 돈이 10만원 미만이라면?)\n",
    "        print(\"당신의 등급은 BABY OLIVE입니다\")\n",
    "elif isUser.upper()==\"N\":#해당글자의 대문자가 N이라면?\n",
    "    print(\"회원가입을 해주세요\")\n",
    "else:\n",
    "    print(\"잘못된 입력\")"
   ]
  }
 ],
 "metadata": {
  "kernelspec": {
   "display_name": "Python 3",
   "language": "python",
   "name": "python3"
  },
  "language_info": {
   "codemirror_mode": {
    "name": "ipython",
    "version": 3
   },
   "file_extension": ".py",
   "mimetype": "text/x-python",
   "name": "python",
   "nbconvert_exporter": "python",
   "pygments_lexer": "ipython3",
   "version": "3.11.9"
  }
 },
 "nbformat": 4,
 "nbformat_minor": 2
}
