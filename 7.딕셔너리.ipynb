{
 "cells": [
  {
   "cell_type": "markdown",
   "metadata": {},
   "source": [
    "# 딕셔너리"
   ]
  },
  {
   "cell_type": "markdown",
   "metadata": {},
   "source": [
    "## 딕셔너리란?\n",
    "딕셔너리(Dictionary)는 말그대로 사전을 의미하며 key와 value로 이루어진 자료구조입니다. 파이썬의 딕셔너리를 활용해서 화장품 가격 사전을 만들어 보겠습니다"
   ]
  },
  {
   "cell_type": "code",
   "execution_count": 11,
   "metadata": {},
   "outputs": [
    {
     "data": {
      "text/plain": [
       "{'[10월 올영픽] 필리밀리X헬로키티 하트쿠션퍼프 (5P) 2종 택1': 7900,\n",
       " '[10월 올영픽] 필리밀리 말랑한조각스펀지(80P)': 9900,\n",
       " '[1등 에어퍼프] 에스쁘아 비글로우/비벨벳 쿠션 에어퍼프 5개입 (2종 택1)': 8500}"
      ]
     },
     "execution_count": 11,
     "metadata": {},
     "output_type": "execute_result"
    }
   ],
   "source": [
    "#딕셔너리는 왼쪽이 key고 오른쪽이 value다\n",
    "#key는 요소가 바뀌지 않는 자료구조(int, float, boolean, str)로 이루어져야 하면 중복이 되면 안된다\n",
    "#value는 중복이 이여도 상관이 없다\n",
    "makeup={\n",
    "    \"[10월 올영픽] 필리밀리X헬로키티 하트쿠션퍼프 (5P) 2종 택1\":7900,\n",
    "    \"[10월 올영픽] 필리밀리 말랑한조각스펀지(80P)\":9900,\n",
    "    \"[1등 에어퍼프] 에스쁘아 비글로우/비벨벳 쿠션 에어퍼프 5개입 (2종 택1)\":8500\n",
    "    }\n",
    "makeup"
   ]
  },
  {
   "cell_type": "markdown",
   "metadata": {},
   "source": [
    "## 딕셔너리의 요소 가져오기\n",
    "딕셔너리의 요소를 가져오는법은 `딕셔너리명[키명]`입니다"
   ]
  },
  {
   "cell_type": "code",
   "execution_count": 33,
   "metadata": {},
   "outputs": [
    {
     "data": {
      "text/plain": [
       "8500"
      ]
     },
     "execution_count": 33,
     "metadata": {},
     "output_type": "execute_result"
    }
   ],
   "source": [
    "makeup={\n",
    "    \"[10월 올영픽] 필리밀리X헬로키티 하트쿠션퍼프 (5P) 2종 택1\":7900,\n",
    "    \"[10월 올영픽] 필리밀리 말랑한조각스펀지(80P)\":9900,\n",
    "    \"[1등 에어퍼프] 에스쁘아 비글로우/비벨벳 쿠션 에어퍼프 5개입 (2종 택1)\":8500\n",
    "    }\n",
    "makeup[\"[1등 에어퍼프] 에스쁘아 비글로우/비벨벳 쿠션 에어퍼프 5개입 (2종 택1)\"]"
   ]
  },
  {
   "cell_type": "markdown",
   "metadata": {},
   "source": [
    "### 주의할점\n",
    "* 딕셔너리는 왼쪽이 key고 오른쪽이 value다\n",
    "* key는 요소가 바뀌지 않는 자료구조(int, float, boolean, str, tuple)로 이루어져야 하면 중복이 되면 안된다\n",
    "* value는 중복이여도 상관이 없다"
   ]
  },
  {
   "cell_type": "code",
   "execution_count": 27,
   "metadata": {},
   "outputs": [
    {
     "data": {
      "text/plain": [
       "134"
      ]
     },
     "execution_count": 27,
     "metadata": {},
     "output_type": "execute_result"
    }
   ],
   "source": [
    "makeup={\n",
    "    \"[10월 올영픽] 필리밀리X헬로키티 하트쿠션퍼프 (5P) 2종 택1\":7900,\n",
    "    \"[10월 올영픽] 필리밀리X헬로키티 하트쿠션퍼프 (5P) 2종 택1\":134,\n",
    "    \"[10월 올영픽] 필리밀리 말랑한조각스펀지(80P)\":9900,\n",
    "    \"[1등 에어퍼프] 에스쁘아 비글로우/비벨벳 쿠션 에어퍼프 5개입 (2종 택1)\":8500\n",
    "    }\n",
    "makeup[\"[10월 올영픽] 필리밀리X헬로키티 하트쿠션퍼프 (5P) 2종 택1\"]"
   ]
  },
  {
   "cell_type": "code",
   "execution_count": 28,
   "metadata": {},
   "outputs": [
    {
     "ename": "TypeError",
     "evalue": "unhashable type: 'list'",
     "output_type": "error",
     "traceback": [
      "\u001b[1;31m---------------------------------------------------------------------------\u001b[0m",
      "\u001b[1;31mTypeError\u001b[0m                                 Traceback (most recent call last)",
      "Cell \u001b[1;32mIn[28], line 1\u001b[0m\n\u001b[1;32m----> 1\u001b[0m makeup\u001b[38;5;241m=\u001b[39m{\n\u001b[0;32m      2\u001b[0m     [\u001b[38;5;124m\"\u001b[39m\u001b[38;5;124m[10월 올영픽] 필리밀리X헬로키티 하트쿠션퍼프 (5P) 2종 택1\u001b[39m\u001b[38;5;124m\"\u001b[39m,\u001b[38;5;124m\"\u001b[39m\u001b[38;5;124m[10월 올영픽] 필리밀리 말랑한조각스펀지(80P)\u001b[39m\u001b[38;5;124m\"\u001b[39m]:\u001b[38;5;241m7900\u001b[39m,\n\u001b[0;32m      3\u001b[0m     \u001b[38;5;124m\"\u001b[39m\u001b[38;5;124m[1등 에어퍼프] 에스쁘아 비글로우/비벨벳 쿠션 에어퍼프 5개입 (2종 택1)\u001b[39m\u001b[38;5;124m\"\u001b[39m:\u001b[38;5;241m8500\u001b[39m\n\u001b[0;32m      4\u001b[0m     }\n",
      "\u001b[1;31mTypeError\u001b[0m: unhashable type: 'list'"
     ]
    }
   ],
   "source": [
    "makeup={\n",
    "    [\"[10월 올영픽] 필리밀리X헬로키티 하트쿠션퍼프 (5P) 2종 택1\",\"[10월 올영픽] 필리밀리 말랑한조각스펀지(80P)\"]:7900,\n",
    "    \"[1등 에어퍼프] 에스쁘아 비글로우/비벨벳 쿠션 에어퍼프 5개입 (2종 택1)\":8500\n",
    "    }"
   ]
  },
  {
   "cell_type": "code",
   "execution_count": 31,
   "metadata": {},
   "outputs": [
    {
     "data": {
      "text/plain": [
       "'올리브영에서 팜'"
      ]
     },
     "execution_count": 31,
     "metadata": {},
     "output_type": "execute_result"
    }
   ],
   "source": [
    "makeup={\n",
    "    \"메이크업 소품\":[\"[10월 올영픽] 필리밀리X헬로키티 하트쿠션퍼프 (5P) 2종 택1\",\n",
    "               \"[10월 올영픽] 필리밀리 말랑한조각스펀지(80P)\"],\n",
    "    (\"[10월 올영픽] 필리밀리X헬로키티 하트쿠션퍼프 (5P) 2종 택1\",\n",
    "     \"[10월 올영픽] 필리밀리 말랑한조각스펀지(80P)\"):\"올리브영에서 팜\"\n",
    "}\n",
    "makeup[(\"[10월 올영픽] 필리밀리X헬로키티 하트쿠션퍼프 (5P) 2종 택1\",\"[10월 올영픽] 필리밀리 말랑한조각스펀지(80P)\")]"
   ]
  },
  {
   "cell_type": "markdown",
   "metadata": {},
   "source": [
    "### 딕셔너리를 활용한 홀수 짝수 계산 프로그램 만들기"
   ]
  },
  {
   "cell_type": "code",
   "execution_count": 60,
   "metadata": {},
   "outputs": [
    {
     "data": {
      "text/plain": [
       "'짝수입니다'"
      ]
     },
     "execution_count": 60,
     "metadata": {},
     "output_type": "execute_result"
    }
   ],
   "source": [
    "is_odd={\n",
    "    0:'짝수',\n",
    "    1:\"홀수\"\n",
    "}\n",
    "num=int(input(\"숫자를 입력해주세요\"))\n",
    "num%=2\n",
    "is_odd[num]+'입니다'"
   ]
  },
  {
   "cell_type": "markdown",
   "metadata": {},
   "source": [
    "#### 심화과정"
   ]
  },
  {
   "cell_type": "code",
   "execution_count": 61,
   "metadata": {},
   "outputs": [
    {
     "data": {
      "text/plain": [
       "'홀수입니다'"
      ]
     },
     "execution_count": 61,
     "metadata": {},
     "output_type": "execute_result"
    }
   ],
   "source": [
    "is_odd={\n",
    "    0:'짝수',\n",
    "    1:\"홀수\"\n",
    "}\n",
    "is_odd[int(input(\"숫자를 입력해주세요\"))%2]+'입니다'"
   ]
  },
  {
   "cell_type": "markdown",
   "metadata": {},
   "source": [
    "## 딕셔너리 연산자\n",
    "딕셔너리는 len, in, not in을 쓸수 있지만 key를 기준으로 계산합니다"
   ]
  },
  {
   "cell_type": "code",
   "execution_count": 41,
   "metadata": {},
   "outputs": [
    {
     "data": {
      "text/plain": [
       "True"
      ]
     },
     "execution_count": 41,
     "metadata": {},
     "output_type": "execute_result"
    }
   ],
   "source": [
    "makeup={\n",
    "    \"[10월 올영픽] 필리밀리X헬로키티 하트쿠션퍼프 (5P) 2종 택1\":7900,\n",
    "    \"[10월 올영픽] 필리밀리 말랑한조각스펀지(80P)\":9900,\n",
    "    \"[1등 에어퍼프] 에스쁘아 비글로우/비벨벳 쿠션 에어퍼프 5개입 (2종 택1)\":8500\n",
    "    }\n",
    "\"[10월 올영픽] 필리밀리X헬로키티 하트쿠션퍼프 (5P) 2종 택1\"in makeup"
   ]
  },
  {
   "cell_type": "code",
   "execution_count": 42,
   "metadata": {},
   "outputs": [
    {
     "data": {
      "text/plain": [
       "True"
      ]
     },
     "execution_count": 42,
     "metadata": {},
     "output_type": "execute_result"
    }
   ],
   "source": [
    "makeup={\n",
    "    \"[10월 올영픽] 필리밀리X헬로키티 하트쿠션퍼프 (5P) 2종 택1\":7900,\n",
    "    \"[10월 올영픽] 필리밀리 말랑한조각스펀지(80P)\":9900,\n",
    "    \"[1등 에어퍼프] 에스쁘아 비글로우/비벨벳 쿠션 에어퍼프 5개입 (2종 택1)\":8500\n",
    "    }\n",
    "9900 not in makeup"
   ]
  },
  {
   "cell_type": "code",
   "execution_count": 43,
   "metadata": {},
   "outputs": [
    {
     "data": {
      "text/plain": [
       "3"
      ]
     },
     "execution_count": 43,
     "metadata": {},
     "output_type": "execute_result"
    }
   ],
   "source": [
    "makeup={\n",
    "    \"[10월 올영픽] 필리밀리X헬로키티 하트쿠션퍼프 (5P) 2종 택1\":7900,\n",
    "    \"[10월 올영픽] 필리밀리 말랑한조각스펀지(80P)\":9900,\n",
    "    \"[1등 에어퍼프] 에스쁘아 비글로우/비벨벳 쿠션 에어퍼프 5개입 (2종 택1)\":8500\n",
    "    }\n",
    "len(makeup)"
   ]
  },
  {
   "cell_type": "markdown",
   "metadata": {},
   "source": [
    "## 딕셔너리와 for문\n",
    "딕셔너리는 key를 기준으로 for문을 돌릴수 있습니다"
   ]
  },
  {
   "cell_type": "code",
   "execution_count": 53,
   "metadata": {},
   "outputs": [
    {
     "name": "stdout",
     "output_type": "stream",
     "text": [
      "[10월 올영픽] 필리밀리X헬로키티 하트쿠션퍼프 (5P) 2종 택1\n",
      "[10월 올영픽] 필리밀리 말랑한조각스펀지(80P)\n",
      "[1등 에어퍼프] 에스쁘아 비글로우/비벨벳 쿠션 에어퍼프 5개입 (2종 택1)\n"
     ]
    }
   ],
   "source": [
    "makeup={\n",
    "    \"[10월 올영픽] 필리밀리X헬로키티 하트쿠션퍼프 (5P) 2종 택1\":7900,\n",
    "    \"[10월 올영픽] 필리밀리 말랑한조각스펀지(80P)\":9900,\n",
    "    \"[1등 에어퍼프] 에스쁘아 비글로우/비벨벳 쿠션 에어퍼프 5개입 (2종 택1)\":8500\n",
    "    }\n",
    "for i in makeup:\n",
    "    print(i)"
   ]
  },
  {
   "cell_type": "markdown",
   "metadata": {},
   "source": [
    "## 딕셔너리의 자료형"
   ]
  },
  {
   "cell_type": "code",
   "execution_count": 37,
   "metadata": {},
   "outputs": [
    {
     "data": {
      "text/plain": [
       "dict"
      ]
     },
     "execution_count": 37,
     "metadata": {},
     "output_type": "execute_result"
    }
   ],
   "source": [
    "type({\"[10월 올영픽] 필리밀리X헬로키티 하트쿠션퍼프 (5P) 2종 택1\":7900})"
   ]
  },
  {
   "cell_type": "markdown",
   "metadata": {},
   "source": [
    "## 비어있는 딕셔너리 만들기"
   ]
  },
  {
   "cell_type": "code",
   "execution_count": 38,
   "metadata": {},
   "outputs": [
    {
     "data": {
      "text/plain": [
       "dict"
      ]
     },
     "execution_count": 38,
     "metadata": {},
     "output_type": "execute_result"
    }
   ],
   "source": [
    "d={}\n",
    "type(d)"
   ]
  },
  {
   "cell_type": "code",
   "execution_count": 39,
   "metadata": {},
   "outputs": [
    {
     "data": {
      "text/plain": [
       "dict"
      ]
     },
     "execution_count": 39,
     "metadata": {},
     "output_type": "execute_result"
    }
   ],
   "source": [
    "d=dict()\n",
    "type(d)"
   ]
  },
  {
   "cell_type": "markdown",
   "metadata": {},
   "source": [
    "## 딕셔너리 키 추가하기\n",
    "딕셔너리에 새로운 키를 추가하고 싶으면 `딕셔너리명[새로운 키값]=값`형식으로 하면 됩니다"
   ]
  },
  {
   "cell_type": "code",
   "execution_count": 46,
   "metadata": {},
   "outputs": [
    {
     "data": {
      "text/plain": [
       "{'[10월 올영픽] 필리밀리X헬로키티 하트쿠션퍼프 (5P) 2종 택1': 7900,\n",
       " '[10월 올영픽] 필리밀리 말랑한조각스펀지(80P)': 9900,\n",
       " '[1등 에어퍼프] 에스쁘아 비글로우/비벨벳 쿠션 에어퍼프 5개입 (2종 택1)': 8500}"
      ]
     },
     "execution_count": 46,
     "metadata": {},
     "output_type": "execute_result"
    }
   ],
   "source": [
    "makeup={\n",
    "    \"[10월 올영픽] 필리밀리X헬로키티 하트쿠션퍼프 (5P) 2종 택1\":7900,\n",
    "    \"[10월 올영픽] 필리밀리 말랑한조각스펀지(80P)\":9900,\n",
    "    }\n",
    "makeup[\"[1등 에어퍼프] 에스쁘아 비글로우/비벨벳 쿠션 에어퍼프 5개입 (2종 택1)\"]=8500\n",
    "makeup"
   ]
  },
  {
   "cell_type": "markdown",
   "metadata": {},
   "source": [
    "## 딕셔너리 값 수정하기\n",
    "딕셔너리에 새로운 키를 추가하고 싶으면 `딕셔너리명[있는 키값]=값`형식으로 하면 됩니다"
   ]
  },
  {
   "cell_type": "code",
   "execution_count": 45,
   "metadata": {},
   "outputs": [
    {
     "data": {
      "text/plain": [
       "{'[10월 올영픽] 필리밀리X헬로키티 하트쿠션퍼프 (5P) 2종 택1': 7900,\n",
       " '[10월 올영픽] 필리밀리 말랑한조각스펀지(80P)': 9900,\n",
       " '[1등 에어퍼프] 에스쁘아 비글로우/비벨벳 쿠션 에어퍼프 5개입 (2종 택1)': 8500}"
      ]
     },
     "execution_count": 45,
     "metadata": {},
     "output_type": "execute_result"
    }
   ],
   "source": [
    "makeup={\n",
    "    \"[10월 올영픽] 필리밀리X헬로키티 하트쿠션퍼프 (5P) 2종 택1\":7900,\n",
    "    \"[10월 올영픽] 필리밀리 말랑한조각스펀지(80P)\":9900,\n",
    "    \"[1등 에어퍼프] 에스쁘아 비글로우/비벨벳 쿠션 에어퍼프 5개입 (2종 택1)\":-100\n",
    "    }\n",
    "makeup[\"[1등 에어퍼프] 에스쁘아 비글로우/비벨벳 쿠션 에어퍼프 5개입 (2종 택1)\"]=8500\n",
    "makeup"
   ]
  },
  {
   "cell_type": "markdown",
   "metadata": {},
   "source": [
    "## 특정키 삭제\n",
    "``del``은 해당 객체의 존재를 소멸하는거라고 배웠습니다 예를 들자면 ``del a``라고 하면 a라는 존재는 소멸돼고 ``del a[1]``라고 하면 a[1]이라는 존재가 소멸 된다는 뜻이죠. 딕셔너리도 `del 딕셔너리명[키 이름]`으로 사용하면 됩니다"
   ]
  },
  {
   "cell_type": "code",
   "execution_count": 47,
   "metadata": {},
   "outputs": [
    {
     "data": {
      "text/plain": [
       "{'[10월 올영픽] 필리밀리X헬로키티 하트쿠션퍼프 (5P) 2종 택1': 7900,\n",
       " '[1등 에어퍼프] 에스쁘아 비글로우/비벨벳 쿠션 에어퍼프 5개입 (2종 택1)': 8500}"
      ]
     },
     "execution_count": 47,
     "metadata": {},
     "output_type": "execute_result"
    }
   ],
   "source": [
    "makeup={\n",
    "    \"[10월 올영픽] 필리밀리X헬로키티 하트쿠션퍼프 (5P) 2종 택1\":7900,\n",
    "    \"[10월 올영픽] 필리밀리 말랑한조각스펀지(80P)\":9900,\n",
    "    \"[1등 에어퍼프] 에스쁘아 비글로우/비벨벳 쿠션 에어퍼프 5개입 (2종 택1)\":8500\n",
    "    }\n",
    "del makeup[\"[10월 올영픽] 필리밀리 말랑한조각스펀지(80P)\"]\n",
    "makeup"
   ]
  },
  {
   "cell_type": "markdown",
   "metadata": {},
   "source": [
    "## 딕셔너리 메소드"
   ]
  },
  {
   "cell_type": "code",
   "execution_count": 48,
   "metadata": {},
   "outputs": [
    {
     "data": {
      "text/plain": [
       "['__class__',\n",
       " '__class_getitem__',\n",
       " '__contains__',\n",
       " '__delattr__',\n",
       " '__delitem__',\n",
       " '__dir__',\n",
       " '__doc__',\n",
       " '__eq__',\n",
       " '__format__',\n",
       " '__ge__',\n",
       " '__getattribute__',\n",
       " '__getitem__',\n",
       " '__getstate__',\n",
       " '__gt__',\n",
       " '__hash__',\n",
       " '__init__',\n",
       " '__init_subclass__',\n",
       " '__ior__',\n",
       " '__iter__',\n",
       " '__le__',\n",
       " '__len__',\n",
       " '__lt__',\n",
       " '__ne__',\n",
       " '__new__',\n",
       " '__or__',\n",
       " '__reduce__',\n",
       " '__reduce_ex__',\n",
       " '__repr__',\n",
       " '__reversed__',\n",
       " '__ror__',\n",
       " '__setattr__',\n",
       " '__setitem__',\n",
       " '__sizeof__',\n",
       " '__str__',\n",
       " '__subclasshook__',\n",
       " 'clear',\n",
       " 'copy',\n",
       " 'fromkeys',\n",
       " 'get',\n",
       " 'items',\n",
       " 'keys',\n",
       " 'pop',\n",
       " 'popitem',\n",
       " 'setdefault',\n",
       " 'update',\n",
       " 'values']"
      ]
     },
     "execution_count": 48,
     "metadata": {},
     "output_type": "execute_result"
    }
   ],
   "source": [
    "dir(dict())"
   ]
  },
  {
   "cell_type": "markdown",
   "metadata": {},
   "source": [
    "## dict.clear()\n",
    "해당 자료구조의 내용을 지우는 메서드 입니다"
   ]
  },
  {
   "cell_type": "code",
   "execution_count": 49,
   "metadata": {},
   "outputs": [
    {
     "data": {
      "text/plain": [
       "{}"
      ]
     },
     "execution_count": 49,
     "metadata": {},
     "output_type": "execute_result"
    }
   ],
   "source": [
    "makeup={\n",
    "    \"[10월 올영픽] 필리밀리X헬로키티 하트쿠션퍼프 (5P) 2종 택1\":7900,\n",
    "    \"[10월 올영픽] 필리밀리 말랑한조각스펀지(80P)\":9900,\n",
    "    \"[1등 에어퍼프] 에스쁘아 비글로우/비벨벳 쿠션 에어퍼프 5개입 (2종 택1)\":8500\n",
    "    }\n",
    "makeup.clear()\n",
    "makeup"
   ]
  },
  {
   "cell_type": "markdown",
   "metadata": {},
   "source": [
    "## dict.items()\n",
    "딕셔너리에서 key와 value를 반환하는 메서드 입니다"
   ]
  },
  {
   "cell_type": "code",
   "execution_count": 52,
   "metadata": {},
   "outputs": [
    {
     "data": {
      "text/plain": [
       "dict_items([('[10월 올영픽] 필리밀리X헬로키티 하트쿠션퍼프 (5P) 2종 택1', 7900), ('[10월 올영픽] 필리밀리 말랑한조각스펀지(80P)', 9900), ('[1등 에어퍼프] 에스쁘아 비글로우/비벨벳 쿠션 에어퍼프 5개입 (2종 택1)', 8500)])"
      ]
     },
     "execution_count": 52,
     "metadata": {},
     "output_type": "execute_result"
    }
   ],
   "source": [
    "makeup={\n",
    "    \"[10월 올영픽] 필리밀리X헬로키티 하트쿠션퍼프 (5P) 2종 택1\":7900,\n",
    "    \"[10월 올영픽] 필리밀리 말랑한조각스펀지(80P)\":9900,\n",
    "    \"[1등 에어퍼프] 에스쁘아 비글로우/비벨벳 쿠션 에어퍼프 5개입 (2종 택1)\":8500\n",
    "    }\n",
    "makeup.items()"
   ]
  },
  {
   "cell_type": "markdown",
   "metadata": {},
   "source": [
    "### dict.item()과 for문\n",
    "dict.item()을 사용하면 key와 value모두 for문을 돌릴수 있습니다"
   ]
  },
  {
   "cell_type": "code",
   "execution_count": 54,
   "metadata": {},
   "outputs": [
    {
     "name": "stdout",
     "output_type": "stream",
     "text": [
      "('[10월 올영픽] 필리밀리X헬로키티 하트쿠션퍼프 (5P) 2종 택1', 7900)\n",
      "('[10월 올영픽] 필리밀리 말랑한조각스펀지(80P)', 9900)\n",
      "('[1등 에어퍼프] 에스쁘아 비글로우/비벨벳 쿠션 에어퍼프 5개입 (2종 택1)', 8500)\n"
     ]
    }
   ],
   "source": [
    "makeup={\n",
    "    \"[10월 올영픽] 필리밀리X헬로키티 하트쿠션퍼프 (5P) 2종 택1\":7900,\n",
    "    \"[10월 올영픽] 필리밀리 말랑한조각스펀지(80P)\":9900,\n",
    "    \"[1등 에어퍼프] 에스쁘아 비글로우/비벨벳 쿠션 에어퍼프 5개입 (2종 택1)\":8500\n",
    "    }\n",
    "for i in makeup.items():\n",
    "    print(i)"
   ]
  },
  {
   "cell_type": "markdown",
   "metadata": {},
   "source": [
    "## dict.keys()\n",
    "해당 딕셔너리의 key들을 반환하는 메서드 입니다"
   ]
  },
  {
   "cell_type": "code",
   "execution_count": 57,
   "metadata": {},
   "outputs": [
    {
     "data": {
      "text/plain": [
       "dict_keys(['[10월 올영픽] 필리밀리X헬로키티 하트쿠션퍼프 (5P) 2종 택1', '[10월 올영픽] 필리밀리 말랑한조각스펀지(80P)', '[1등 에어퍼프] 에스쁘아 비글로우/비벨벳 쿠션 에어퍼프 5개입 (2종 택1)'])"
      ]
     },
     "execution_count": 57,
     "metadata": {},
     "output_type": "execute_result"
    }
   ],
   "source": [
    "makeup={\n",
    "    \"[10월 올영픽] 필리밀리X헬로키티 하트쿠션퍼프 (5P) 2종 택1\":7900,\n",
    "    \"[10월 올영픽] 필리밀리 말랑한조각스펀지(80P)\":9900,\n",
    "    \"[1등 에어퍼프] 에스쁘아 비글로우/비벨벳 쿠션 에어퍼프 5개입 (2종 택1)\":8500\n",
    "    }\n",
    "makeup.keys()"
   ]
  },
  {
   "cell_type": "markdown",
   "metadata": {},
   "source": [
    "## dict.values()\n",
    "해당 딕셔너리의 value들을 반환하는 메서드 입니다"
   ]
  },
  {
   "cell_type": "code",
   "execution_count": 58,
   "metadata": {},
   "outputs": [
    {
     "data": {
      "text/plain": [
       "dict_values([7900, 9900, 8500])"
      ]
     },
     "execution_count": 58,
     "metadata": {},
     "output_type": "execute_result"
    }
   ],
   "source": [
    "makeup={\n",
    "    \"[10월 올영픽] 필리밀리X헬로키티 하트쿠션퍼프 (5P) 2종 택1\":7900,\n",
    "    \"[10월 올영픽] 필리밀리 말랑한조각스펀지(80P)\":9900,\n",
    "    \"[1등 에어퍼프] 에스쁘아 비글로우/비벨벳 쿠션 에어퍼프 5개입 (2종 택1)\":8500\n",
    "    }\n",
    "makeup.values()"
   ]
  },
  {
   "cell_type": "markdown",
   "metadata": {},
   "source": [
    "## dict.update(dict1)\n",
    "해당 딕셔너리에 새로운 딕셔너리를 추가하는 메서드입니다"
   ]
  },
  {
   "cell_type": "code",
   "execution_count": 59,
   "metadata": {},
   "outputs": [
    {
     "data": {
      "text/plain": [
       "{'[10월 올영픽] 필리밀리X헬로키티 하트쿠션퍼프 (5P) 2종 택1': 7900,\n",
       " '[10월 올영픽] 필리밀리 말랑한조각스펀지(80P)': 9900,\n",
       " '[1등 에어퍼프] 에스쁘아 비글로우/비벨벳 쿠션 에어퍼프 5개입 (2종 택1)': 8500}"
      ]
     },
     "execution_count": 59,
     "metadata": {},
     "output_type": "execute_result"
    }
   ],
   "source": [
    "makeup={\n",
    "    \"[10월 올영픽] 필리밀리X헬로키티 하트쿠션퍼프 (5P) 2종 택1\":7900,\n",
    "    \"[10월 올영픽] 필리밀리 말랑한조각스펀지(80P)\":9900,\n",
    "    }\n",
    "makeup1={\"[1등 에어퍼프] 에스쁘아 비글로우/비벨벳 쿠션 에어퍼프 5개입 (2종 택1)\":8500}\n",
    "makeup.update(makeup1)\n",
    "makeup"
   ]
  },
  {
   "cell_type": "markdown",
   "metadata": {},
   "source": [
    "## 두개의 딕셔너리에 키가 있다면?\n",
    "값이 변경이 됩니다"
   ]
  },
  {
   "cell_type": "code",
   "execution_count": 63,
   "metadata": {},
   "outputs": [
    {
     "data": {
      "text/plain": [
       "{'[10월 올영픽] 필리밀리X헬로키티 하트쿠션퍼프 (5P) 2종 택1': 7900,\n",
       " '[10월 올영픽] 필리밀리 말랑한조각스펀지(80P)': 9900,\n",
       " '[1등 에어퍼프] 에스쁘아 비글로우/비벨벳 쿠션 에어퍼프 5개입 (2종 택1)': 8500}"
      ]
     },
     "execution_count": 63,
     "metadata": {},
     "output_type": "execute_result"
    }
   ],
   "source": [
    "makeup={\n",
    "    \"[10월 올영픽] 필리밀리X헬로키티 하트쿠션퍼프 (5P) 2종 택1\":7900,\n",
    "    \"[10월 올영픽] 필리밀리 말랑한조각스펀지(80P)\":9900,\n",
    "    \"[1등 에어퍼프] 에스쁘아 비글로우/비벨벳 쿠션 에어퍼프 5개입 (2종 택1)\":1234\n",
    "    }\n",
    "makeup1={\"[1등 에어퍼프] 에스쁘아 비글로우/비벨벳 쿠션 에어퍼프 5개입 (2종 택1)\":8500}\n",
    "makeup.update(makeup1)\n",
    "makeup"
   ]
  },
  {
   "cell_type": "markdown",
   "metadata": {},
   "source": [
    "## dict.get(key)\n",
    "해당 key의 요소를 가져옵니다"
   ]
  },
  {
   "cell_type": "code",
   "execution_count": 64,
   "metadata": {},
   "outputs": [
    {
     "data": {
      "text/plain": [
       "8500"
      ]
     },
     "execution_count": 64,
     "metadata": {},
     "output_type": "execute_result"
    }
   ],
   "source": [
    "makeup={\n",
    "    \"[10월 올영픽] 필리밀리X헬로키티 하트쿠션퍼프 (5P) 2종 택1\":7900,\n",
    "    \"[10월 올영픽] 필리밀리 말랑한조각스펀지(80P)\":9900,\n",
    "    \"[1등 에어퍼프] 에스쁘아 비글로우/비벨벳 쿠션 에어퍼프 5개입 (2종 택1)\":8500\n",
    "    }\n",
    "makeup.get(\"[1등 에어퍼프] 에스쁘아 비글로우/비벨벳 쿠션 에어퍼프 5개입 (2종 택1)\")"
   ]
  },
  {
   "cell_type": "markdown",
   "metadata": {},
   "source": [
    "## dict.get(key) vs dict[key]\n",
    "dict[key]는 없는 key를 가져오면 에러가 나지만 dict.get(key)은 없는 키를 가져오면 에러가 안납니다"
   ]
  },
  {
   "cell_type": "code",
   "execution_count": 66,
   "metadata": {},
   "outputs": [
    {
     "ename": "KeyError",
     "evalue": "1234",
     "output_type": "error",
     "traceback": [
      "\u001b[1;31m---------------------------------------------------------------------------\u001b[0m",
      "\u001b[1;31mKeyError\u001b[0m                                  Traceback (most recent call last)",
      "Cell \u001b[1;32mIn[66], line 6\u001b[0m\n\u001b[0;32m      1\u001b[0m makeup\u001b[38;5;241m=\u001b[39m{\n\u001b[0;32m      2\u001b[0m     \u001b[38;5;124m\"\u001b[39m\u001b[38;5;124m[10월 올영픽] 필리밀리X헬로키티 하트쿠션퍼프 (5P) 2종 택1\u001b[39m\u001b[38;5;124m\"\u001b[39m:\u001b[38;5;241m7900\u001b[39m,\n\u001b[0;32m      3\u001b[0m     \u001b[38;5;124m\"\u001b[39m\u001b[38;5;124m[10월 올영픽] 필리밀리 말랑한조각스펀지(80P)\u001b[39m\u001b[38;5;124m\"\u001b[39m:\u001b[38;5;241m9900\u001b[39m,\n\u001b[0;32m      4\u001b[0m     \u001b[38;5;124m\"\u001b[39m\u001b[38;5;124m[1등 에어퍼프] 에스쁘아 비글로우/비벨벳 쿠션 에어퍼프 5개입 (2종 택1)\u001b[39m\u001b[38;5;124m\"\u001b[39m:\u001b[38;5;241m8500\u001b[39m\n\u001b[0;32m      5\u001b[0m     }\n\u001b[1;32m----> 6\u001b[0m \u001b[43mmakeup\u001b[49m\u001b[43m[\u001b[49m\u001b[38;5;241;43m1234\u001b[39;49m\u001b[43m]\u001b[49m\n",
      "\u001b[1;31mKeyError\u001b[0m: 1234"
     ]
    }
   ],
   "source": [
    "makeup={\n",
    "    \"[10월 올영픽] 필리밀리X헬로키티 하트쿠션퍼프 (5P) 2종 택1\":7900,\n",
    "    \"[10월 올영픽] 필리밀리 말랑한조각스펀지(80P)\":9900,\n",
    "    \"[1등 에어퍼프] 에스쁘아 비글로우/비벨벳 쿠션 에어퍼프 5개입 (2종 택1)\":8500\n",
    "    }\n",
    "makeup[1234]"
   ]
  },
  {
   "cell_type": "code",
   "execution_count": 65,
   "metadata": {},
   "outputs": [],
   "source": [
    "makeup={\n",
    "    \"[10월 올영픽] 필리밀리X헬로키티 하트쿠션퍼프 (5P) 2종 택1\":7900,\n",
    "    \"[10월 올영픽] 필리밀리 말랑한조각스펀지(80P)\":9900,\n",
    "    \"[1등 에어퍼프] 에스쁘아 비글로우/비벨벳 쿠션 에어퍼프 5개입 (2종 택1)\":8500\n",
    "    }\n",
    "makeup.get(1234)"
   ]
  },
  {
   "cell_type": "markdown",
   "metadata": {},
   "source": [
    "## dict.get(key,value)\n",
    "해당 key에 맞는 요소를 가져오지만 해당 key가 없다면 value를 가져옵니다"
   ]
  },
  {
   "cell_type": "code",
   "execution_count": 68,
   "metadata": {},
   "outputs": [
    {
     "data": {
      "text/plain": [
       "('존재하지 않음',\n",
       " {'[10월 올영픽] 필리밀리X헬로키티 하트쿠션퍼프 (5P) 2종 택1': 7900,\n",
       "  '[10월 올영픽] 필리밀리 말랑한조각스펀지(80P)': 9900,\n",
       "  '[1등 에어퍼프] 에스쁘아 비글로우/비벨벳 쿠션 에어퍼프 5개입 (2종 택1)': 8500})"
      ]
     },
     "execution_count": 68,
     "metadata": {},
     "output_type": "execute_result"
    }
   ],
   "source": [
    "makeup={\n",
    "    \"[10월 올영픽] 필리밀리X헬로키티 하트쿠션퍼프 (5P) 2종 택1\":7900,\n",
    "    \"[10월 올영픽] 필리밀리 말랑한조각스펀지(80P)\":9900,\n",
    "    \"[1등 에어퍼프] 에스쁘아 비글로우/비벨벳 쿠션 에어퍼프 5개입 (2종 택1)\":8500\n",
    "    }\n",
    "makeup.get(1234,\"존재하지 않음\"),makeup"
   ]
  },
  {
   "cell_type": "markdown",
   "metadata": {},
   "source": [
    "## dict.setdefault(keys,value)\n",
    "해당 key가 존재하지 않으면 value로 설정하는 메소드 입니다(value를 안쓰면 None이 나옴)"
   ]
  },
  {
   "cell_type": "code",
   "execution_count": 74,
   "metadata": {},
   "outputs": [
    {
     "data": {
      "text/plain": [
       "{'[10월 올영픽] 필리밀리X헬로키티 하트쿠션퍼프 (5P) 2종 택1': 7900,\n",
       " '[10월 올영픽] 필리밀리 말랑한조각스펀지(80P)': 9900,\n",
       " '[1등 에어퍼프] 에스쁘아 비글로우/비벨벳 쿠션 에어퍼프 5개입 (2종 택1)': 8500,\n",
       " '존재하지 않는 화장품': None}"
      ]
     },
     "execution_count": 74,
     "metadata": {},
     "output_type": "execute_result"
    }
   ],
   "source": [
    "makeup={\n",
    "    \"[10월 올영픽] 필리밀리X헬로키티 하트쿠션퍼프 (5P) 2종 택1\":7900,\n",
    "    \"[10월 올영픽] 필리밀리 말랑한조각스펀지(80P)\":9900,\n",
    "    \"[1등 에어퍼프] 에스쁘아 비글로우/비벨벳 쿠션 에어퍼프 5개입 (2종 택1)\":8500\n",
    "    }\n",
    "makeup.setdefault(\"존재하지 않는 화장품\")\n",
    "makeup"
   ]
  },
  {
   "cell_type": "code",
   "execution_count": 75,
   "metadata": {},
   "outputs": [
    {
     "data": {
      "text/plain": [
       "{'[10월 올영픽] 필리밀리X헬로키티 하트쿠션퍼프 (5P) 2종 택1': 7900,\n",
       " '[10월 올영픽] 필리밀리 말랑한조각스펀지(80P)': 9900,\n",
       " '[1등 에어퍼프] 에스쁘아 비글로우/비벨벳 쿠션 에어퍼프 5개입 (2종 택1)': 8500,\n",
       " '새로운 화장품': 8000}"
      ]
     },
     "execution_count": 75,
     "metadata": {},
     "output_type": "execute_result"
    }
   ],
   "source": [
    "makeup={\n",
    "    \"[10월 올영픽] 필리밀리X헬로키티 하트쿠션퍼프 (5P) 2종 택1\":7900,\n",
    "    \"[10월 올영픽] 필리밀리 말랑한조각스펀지(80P)\":9900,\n",
    "    \"[1등 에어퍼프] 에스쁘아 비글로우/비벨벳 쿠션 에어퍼프 5개입 (2종 택1)\":8500\n",
    "    }\n",
    "makeup.setdefault(\"새로운 화장품\",8000)\n",
    "makeup"
   ]
  },
  {
   "cell_type": "code",
   "execution_count": 77,
   "metadata": {},
   "outputs": [
    {
     "data": {
      "text/plain": [
       "{'[10월 올영픽] 필리밀리X헬로키티 하트쿠션퍼프 (5P) 2종 택1': 7900,\n",
       " '[10월 올영픽] 필리밀리 말랑한조각스펀지(80P)': 9900,\n",
       " '[1등 에어퍼프] 에스쁘아 비글로우/비벨벳 쿠션 에어퍼프 5개입 (2종 택1)': 8500}"
      ]
     },
     "execution_count": 77,
     "metadata": {},
     "output_type": "execute_result"
    }
   ],
   "source": [
    "#키가 존재하면 값이 안바뀐다\n",
    "makeup={\n",
    "    \"[10월 올영픽] 필리밀리X헬로키티 하트쿠션퍼프 (5P) 2종 택1\":7900,\n",
    "    \"[10월 올영픽] 필리밀리 말랑한조각스펀지(80P)\":9900,\n",
    "    \"[1등 에어퍼프] 에스쁘아 비글로우/비벨벳 쿠션 에어퍼프 5개입 (2종 택1)\":8500\n",
    "    }\n",
    "makeup.setdefault(\"[1등 에어퍼프] 에스쁘아 비글로우/비벨벳 쿠션 에어퍼프 5개입 (2종 택1)\",123)\n",
    "makeup"
   ]
  },
  {
   "cell_type": "markdown",
   "metadata": {},
   "source": [
    "## zip()\n",
    "`[\"바나나\",\"사과\",\"멜론\"]`리스트하고 `[1000,2000,3000]`리스트가 있다고 가정해봅시다.<br>\n",
    "만약`{'바나나': 1000, '사과': 2000, '멜론': 3000}`처럼 출력하고 싶다면 zip()을 사용하여 딕셔너리로 출력할수 있습니다"
   ]
  },
  {
   "cell_type": "code",
   "execution_count": 4,
   "metadata": {},
   "outputs": [
    {
     "name": "stdout",
     "output_type": "stream",
     "text": [
      "딕셔너리 :  {'바나나': 1000, '사과': 2000, '멜론': 3000}\n",
      "리스트 :  [('바나나', 1000), ('사과', 2000), ('멜론', 3000)]\n",
      "튜플 :  (('바나나', 1000), ('사과', 2000), ('멜론', 3000))\n"
     ]
    }
   ],
   "source": [
    "fruit=[\"바나나\",\"사과\",\"멜론\"]\n",
    "price=[1000,2000,3000]\n",
    "print(\"딕셔너리 : \",dict(zip(fruit,price)))\n",
    "print(\"리스트 : \",list(zip(fruit,price)))\n",
    "print(\"튜플 : \",tuple(zip(fruit,price)))"
   ]
  },
  {
   "cell_type": "markdown",
   "metadata": {},
   "source": [
    "## 빈도수 구하기"
   ]
  },
  {
   "cell_type": "code",
   "execution_count": 1,
   "metadata": {},
   "outputs": [
    {
     "data": {
      "text/plain": [
       "{'apple': 3, 'banana': 2, 'melone': 1}"
      ]
     },
     "execution_count": 1,
     "metadata": {},
     "output_type": "execute_result"
    }
   ],
   "source": [
    "fruit=['apple','banana','melone','apple','banana','apple']\n",
    "fdata={}\n",
    "for i in fruit:\n",
    "    fdata[i]=fdata.get(i,0)+1\n",
    "fdata"
   ]
  },
  {
   "cell_type": "markdown",
   "metadata": {},
   "source": [
    "## 애국가 단어 빈도수 구하기"
   ]
  },
  {
   "cell_type": "code",
   "execution_count": 8,
   "metadata": {},
   "outputs": [
    {
     "data": {
      "text/plain": [
       "{'동해': 1,\n",
       " '물과': 1,\n",
       " '백두산이': 1,\n",
       " '마르고': 1,\n",
       " '닳도록': 1,\n",
       " '하느님이': 1,\n",
       " '보우하사': 1,\n",
       " '우리나라': 1,\n",
       " '만세': 1,\n",
       " '무궁화': 4,\n",
       " '삼천리': 4,\n",
       " '화려': 4,\n",
       " '강산': 4,\n",
       " '대한': 4,\n",
       " '사람': 4,\n",
       " '대한으로': 4,\n",
       " '길이': 4,\n",
       " '보전하세': 4,\n",
       " '남산': 1,\n",
       " '위에': 1,\n",
       " '저': 1,\n",
       " '소나무': 1,\n",
       " '철갑을': 1,\n",
       " '두른': 1,\n",
       " '듯': 1,\n",
       " '바람': 1,\n",
       " '서리': 1,\n",
       " '불변함은': 1,\n",
       " '우리': 2,\n",
       " '기상일세': 1,\n",
       " '가을': 1,\n",
       " '하늘': 1,\n",
       " '공활한데': 1,\n",
       " '높고': 1,\n",
       " '구름': 1,\n",
       " '없이': 1,\n",
       " '밝은': 1,\n",
       " '달은': 1,\n",
       " '가슴': 1,\n",
       " '일편단심일세': 1,\n",
       " '이': 2,\n",
       " '기상과': 1,\n",
       " '맘으로': 1,\n",
       " '충성을': 1,\n",
       " '다하여': 1,\n",
       " '괴로우나': 1,\n",
       " '즐거우나': 1,\n",
       " '나라': 1,\n",
       " '사랑하세': 1}"
      ]
     },
     "execution_count": 8,
     "metadata": {},
     "output_type": "execute_result"
    }
   ],
   "source": [
    "d={}\n",
    "with open(\"애국가.txt\",encoding=\"UTF-8\") as f:\n",
    "    for i in f.readlines():\n",
    "        for j in i.split(\" \"):\n",
    "            d[j.replace('\\n','')]=d.get(j.replace('\\n',''),0)+1\n",
    "d"
   ]
  }
 ],
 "metadata": {
  "kernelspec": {
   "display_name": "Python 3",
   "language": "python",
   "name": "python3"
  },
  "language_info": {
   "codemirror_mode": {
    "name": "ipython",
    "version": 3
   },
   "file_extension": ".py",
   "mimetype": "text/x-python",
   "name": "python",
   "nbconvert_exporter": "python",
   "pygments_lexer": "ipython3",
   "version": "3.11.9"
  }
 },
 "nbformat": 4,
 "nbformat_minor": 2
}
