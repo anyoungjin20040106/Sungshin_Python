{
 "cells": [
  {
   "cell_type": "markdown",
   "metadata": {},
   "source": [
    "# break\n",
    "반복문을 끝내는 키워드 입니다"
   ]
  },
  {
   "cell_type": "code",
   "execution_count": 6,
   "metadata": {},
   "outputs": [
    {
     "name": "stdout",
     "output_type": "stream",
     "text": [
      "1\n",
      "2\n",
      "3\n",
      "4\n",
      "5\n",
      "6는 5보다 크기 때문에 break를 사용하겠습니다\n"
     ]
    }
   ],
   "source": [
    "for i in [1,2,3,4,5,6,7,8,9,10]:\n",
    "    if i>5:#i가 5보다 크면?\n",
    "        print(str(i)+\"는 5보다 크기 때문에 break를 사용하겠습니다\")\n",
    "        break\n",
    "    print(i)"
   ]
  },
  {
   "cell_type": "markdown",
   "metadata": {},
   "source": [
    "# continue\n",
    "밑에 있는 명령을 무시하고 다시 반복문을 돌리는 함수입니다"
   ]
  },
  {
   "cell_type": "code",
   "execution_count": 9,
   "metadata": {},
   "outputs": [
    {
     "name": "stdout",
     "output_type": "stream",
     "text": [
      "1\n",
      "짝수이므로 숫자를 안쓰고 continue를 사용하겠습니다\n",
      "3\n",
      "짝수이므로 숫자를 안쓰고 continue를 사용하겠습니다\n",
      "5\n",
      "짝수이므로 숫자를 안쓰고 continue를 사용하겠습니다\n",
      "7\n",
      "짝수이므로 숫자를 안쓰고 continue를 사용하겠습니다\n",
      "9\n",
      "짝수이므로 숫자를 안쓰고 continue를 사용하겠습니다\n"
     ]
    }
   ],
   "source": [
    "for i in [1,2,3,4,5,6,7,8,9,10]:\n",
    "    if i%2==0:\n",
    "        print(\"짝수이므로 숫자를 안쓰고 continue를 사용하겠습니다\")\n",
    "        continue\n",
    "    print(i)"
   ]
  },
  {
   "cell_type": "markdown",
   "metadata": {},
   "source": [
    "## 0부터 100까지 저장하는 리스트를 만들어보자\n",
    "0부터 100까지 있는 리스트가 있다고 가정해봅시다. 그럼 아래와 같이 작성해야겠죠?<br>\n",
    "[0, 1, 2, 3, 4, 5, 6, 7, 8, 9, 10, 11, 12, 13, 14, 15, 16, 17, 18, 19, 20, 21, 22, 23, 24, 25, 26, 27, 28, 29, 30, 31, 32, 33, 34, 35, 36, 37, 38, 39, 40, 41, 42, 43, 44, 45, 46, 47, 48, 49, 50, 51, 52, 53, 54, 55, 56, 57, 58, 59, 60, 61, 62, 63, 64, 65, 66, 67, 68, 69, 70, 71, 72, 73, 74, 75, 76, 77, 78, 79, 80, 81, 82, 83, 84, 85, 86, 87, 88, 89, 90, 91, 92, 93, 94, 95, 96, 97, 98, 99, 100]"
   ]
  },
  {
   "cell_type": "markdown",
   "metadata": {},
   "source": [
    "## Range()\n",
    "우리는 0부터 1000까지있는 리스트를 구현하기는 힘듭니다. 그래서 Range를 통해서 0부터 1000까지 있는 리스트를 만들수 있습니다. 아래를 보면서 알아봅시다"
   ]
  },
  {
   "cell_type": "code",
   "execution_count": 10,
   "metadata": {},
   "outputs": [
    {
     "name": "stdout",
     "output_type": "stream",
     "text": [
      "range(0, 101) 를 리스트로 변환하면  [0, 1, 2, 3, 4, 5, 6, 7, 8, 9, 10, 11, 12, 13, 14, 15, 16, 17, 18, 19, 20, 21, 22, 23, 24, 25, 26, 27, 28, 29, 30, 31, 32, 33, 34, 35, 36, 37, 38, 39, 40, 41, 42, 43, 44, 45, 46, 47, 48, 49, 50, 51, 52, 53, 54, 55, 56, 57, 58, 59, 60, 61, 62, 63, 64, 65, 66, 67, 68, 69, 70, 71, 72, 73, 74, 75, 76, 77, 78, 79, 80, 81, 82, 83, 84, 85, 86, 87, 88, 89, 90, 91, 92, 93, 94, 95, 96, 97, 98, 99, 100] 다\n"
     ]
    }
   ],
   "source": [
    "a=range(101)#0부터 100까지의 요소가 들어감\n",
    "print(a,\"를 리스트로 변환하면 \",list(a),\"다\")"
   ]
  },
  {
   "cell_type": "markdown",
   "metadata": {},
   "source": [
    "## Range() 사용법\n",
    "|사용법|설명|\n",
    "|:--:|:--:|\n",
    "`range(x)`|0부터 x-1까지의 수를 반환한다\n",
    "`range(x,y)`|x부터 y-1까지의 수를 반환한다\n",
    "`range(x,y,z)`|x부터 y-1까지의 수를 z칸 만큼 뛰어서 반환한다\n"
   ]
  },
  {
   "cell_type": "code",
   "execution_count": 11,
   "metadata": {},
   "outputs": [
    {
     "name": "stdout",
     "output_type": "stream",
     "text": [
      "range(0, 11) -> [0, 1, 2, 3, 4, 5, 6, 7, 8, 9, 10]\n",
      "range(5, 11) -> [5, 6, 7, 8, 9, 10]\n",
      "range(0, 11, 2) -> [0, 2, 4, 6, 8, 10]\n"
     ]
    }
   ],
   "source": [
    "print(range(11),\"->\",list(range(11)))\n",
    "print(range(5,11),\"->\",list(range(5,11)))\n",
    "print(range(0,11,2),\"->\",list(range(0,11,2)))"
   ]
  },
  {
   "cell_type": "markdown",
   "metadata": {},
   "source": [
    "# Range를 for문에 활용해보자"
   ]
  },
  {
   "cell_type": "code",
   "execution_count": 12,
   "metadata": {},
   "outputs": [
    {
     "name": "stdout",
     "output_type": "stream",
     "text": [
      "0는 짝수\n",
      "1는 홀수\n",
      "2는 짝수\n",
      "3는 홀수\n",
      "4는 짝수\n",
      "5는 홀수\n",
      "6는 짝수\n",
      "7는 홀수\n",
      "8는 짝수\n",
      "9는 홀수\n",
      "10는 짝수\n"
     ]
    }
   ],
   "source": [
    "for i in range(11):\n",
    "    if i%2==0:print(str(i)+\"는 짝수\")\n",
    "    else:print(str(i)+\"는 홀수\")"
   ]
  },
  {
   "cell_type": "markdown",
   "metadata": {},
   "source": [
    "## 퀴즈 \n",
    "1부터 5000까지의 숫자중 홀수인 숫자만 저장하는 리스트를 만들어라"
   ]
  }
 ],
 "metadata": {
  "kernelspec": {
   "display_name": "Python 3",
   "language": "python",
   "name": "python3"
  },
  "language_info": {
   "codemirror_mode": {
    "name": "ipython",
    "version": 3
   },
   "file_extension": ".py",
   "mimetype": "text/x-python",
   "name": "python",
   "nbconvert_exporter": "python",
   "pygments_lexer": "ipython3",
   "version": "3.11.9"
  }
 },
 "nbformat": 4,
 "nbformat_minor": 2
}
